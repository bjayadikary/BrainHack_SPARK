{
 "cells": [
  {
   "cell_type": "code",
   "execution_count": 1,
   "id": "bfd9e348-d457-4d4b-865d-cbecc51c28ec",
   "metadata": {},
   "outputs": [],
   "source": [
    "import os\n",
    "import torch\n",
    "from torch.utils.data import Dataset, DataLoader\n",
    "from torchvision.transforms import Compose, ToTensor\n",
    "\n",
    "from glob import glob as glob\n",
    "import nibabel as nib\n",
    "import numpy as np\n",
    "import matplotlib.pyplot as plt\n",
    "\n",
    "import random\n",
    "#import cv2\n",
    "\n",
    "from torchsummary import summary\n",
    "# from skimage import transform\n",
    "# from skimage.transform import resize\n",
    "import torchio as tio\n",
    "# import wandb"
   ]
  },
  {
   "cell_type": "code",
   "execution_count": 2,
   "id": "6eedc62c-68b7-4ff2-ad94-ce87eca2418d",
   "metadata": {},
   "outputs": [
    {
     "data": {
      "text/plain": [
       "device(type='cpu')"
      ]
     },
     "execution_count": 2,
     "metadata": {},
     "output_type": "execute_result"
    }
   ],
   "source": [
    "my_device = torch.device('cuda:0' if torch.cuda.is_available() else 'cpu')\n",
    "my_device"
   ]
  },
  {
   "cell_type": "code",
   "execution_count": 3,
   "id": "44758d1e-8032-4360-b8a1-00b01bc5d9cf",
   "metadata": {},
   "outputs": [
    {
     "name": "stderr",
     "output_type": "stream",
     "text": [
      "\u001b[34m\u001b[1mwandb\u001b[0m: Currently logged in as: \u001b[33mjustkantapoudel\u001b[0m (\u001b[33mgces\u001b[0m). Use \u001b[1m`wandb login --relogin`\u001b[0m to force relogin\n"
     ]
    },
    {
     "data": {
      "text/plain": [
       "True"
      ]
     },
     "execution_count": 3,
     "metadata": {},
     "output_type": "execute_result"
    }
   ],
   "source": [
    "# wandb.login()"
   ]
  },
  {
   "cell_type": "code",
   "execution_count": 4,
   "id": "c9e9eb47-9c47-4a89-9020-f6c3d0fcb4bd",
   "metadata": {},
   "outputs": [
    {
     "data": {
      "application/vnd.jupyter.widget-view+json": {
       "model_id": "10e051e0b15b43abb6a9a792ea47d326",
       "version_major": 2,
       "version_minor": 0
      },
      "text/plain": [
       "VBox(children=(Label(value='Waiting for wandb.init()...\\r'), FloatProgress(value=0.011114189244444283, max=1.0…"
      ]
     },
     "metadata": {},
     "output_type": "display_data"
    },
    {
     "data": {
      "text/html": [
       "Tracking run with wandb version 0.17.0"
      ],
      "text/plain": [
       "<IPython.core.display.HTML object>"
      ]
     },
     "metadata": {},
     "output_type": "display_data"
    },
    {
     "data": {
      "text/html": [
       "Run data is saved locally in <code>/home/laxmi/spark/MedHack/git clone/BrainHack_SPARK/wandb/run-20240522_091726-hqzv7gf6</code>"
      ],
      "text/plain": [
       "<IPython.core.display.HTML object>"
      ]
     },
     "metadata": {},
     "output_type": "display_data"
    },
    {
     "data": {
      "text/html": [
       "Syncing run <strong><a href='https://wandb.ai/gces/BrainTumor2021%20Implementation/runs/hqzv7gf6' target=\"_blank\">jumping-serenity-13</a></strong> to <a href='https://wandb.ai/gces/BrainTumor2021%20Implementation' target=\"_blank\">Weights & Biases</a> (<a href='https://wandb.me/run' target=\"_blank\">docs</a>)<br/>"
      ],
      "text/plain": [
       "<IPython.core.display.HTML object>"
      ]
     },
     "metadata": {},
     "output_type": "display_data"
    },
    {
     "data": {
      "text/html": [
       " View project at <a href='https://wandb.ai/gces/BrainTumor2021%20Implementation' target=\"_blank\">https://wandb.ai/gces/BrainTumor2021%20Implementation</a>"
      ],
      "text/plain": [
       "<IPython.core.display.HTML object>"
      ]
     },
     "metadata": {},
     "output_type": "display_data"
    },
    {
     "data": {
      "text/html": [
       " View run at <a href='https://wandb.ai/gces/BrainTumor2021%20Implementation/runs/hqzv7gf6' target=\"_blank\">https://wandb.ai/gces/BrainTumor2021%20Implementation/runs/hqzv7gf6</a>"
      ],
      "text/plain": [
       "<IPython.core.display.HTML object>"
      ]
     },
     "metadata": {},
     "output_type": "display_data"
    },
    {
     "data": {
      "text/html": [
       "<button onClick=\"this.nextSibling.style.display='block';this.style.display='none';\">Display W&B run</button><iframe src='https://wandb.ai/gces/BrainTumor2021%20Implementation/runs/hqzv7gf6?jupyter=true' style='border:none;width:100%;height:420px;display:none;'></iframe>"
      ],
      "text/plain": [
       "<wandb.sdk.wandb_run.Run at 0x7a288a64f950>"
      ]
     },
     "execution_count": 4,
     "metadata": {},
     "output_type": "execute_result"
    }
   ],
   "source": [
    "# wandb.init(\n",
    "#     project=\"BrainTumor2021 Implementation\",\n",
    "#     config={\n",
    "#         \"epochs\":5,\n",
    "#         \"batch_size\":2,\n",
    "#         \"lr\":0.001\n",
    "#     }\n",
    "# )"
   ]
  },
  {
   "cell_type": "code",
   "execution_count": 5,
   "id": "9d3727e5-cac2-42ba-8ef0-bc4d82df945b",
   "metadata": {},
   "outputs": [],
   "source": [
    "main_directory = \"../data/train_minidata2021\"\n",
    "output_directory = \"../data/train_minidata2021/processed_train\"\n",
    "main_directory_val = \"../data/validation_minidata2021\"\n",
    "output_directory_val = \"../data/validation_minidata2021/processed_val\""
   ]
  },
  {
   "cell_type": "code",
   "execution_count": 6,
   "id": "440a4845-c2e0-44c2-84b7-0b8ebafb55cf",
   "metadata": {},
   "outputs": [],
   "source": [
    "def load_nifty(directory, example_id, suffix):\n",
    "    file_path = os.path.join(directory, example_id + \"_\" + suffix + \".nii.gz\")\n",
    "    if not os.path.exists(file_path):\n",
    "        raise FileNotFoundError(f\"No such file or no access: '{file_path}'\")\n",
    "    return nib.load(file_path)\n"
   ]
  },
  {
   "cell_type": "code",
   "execution_count": 7,
   "id": "704d6ba7-6a87-423e-afb8-27cb68461a8e",
   "metadata": {},
   "outputs": [],
   "source": [
    "def load_channels(directory, example_id):\n",
    "    flair = load_nifty(directory, example_id, \"flair\")\n",
    "    t1 = load_nifty(directory, example_id, \"t1\")\n",
    "    t1ce = load_nifty(directory, example_id, \"t1ce\")\n",
    "    t2 = load_nifty(directory, example_id, \"t2\")\n",
    "    return flair, t1, t1ce, t2\n"
   ]
  },
  {
   "cell_type": "code",
   "execution_count": 8,
   "id": "51686482-9349-4310-b761-162e50f6d70e",
   "metadata": {},
   "outputs": [],
   "source": [
    "def prepare_nifty(d, output_dir):\n",
    "    example_id = d.split(\"/\")[-1]\n",
    "    flair, t1, t1ce, t2 = load_channels(d, example_id)\n",
    "    affine, header = flair.affine, flair.header\n",
    "\n",
    "    # Load data for each modality\n",
    "    flair_data = get_data(flair)\n",
    "    t1_data = get_data(t1)\n",
    "    t1ce_data = get_data(t1ce)\n",
    "    t2_data = get_data(t2)\n",
    "\n",
    "    # Combine into a single volume\n",
    "    combined_volume = np.stack([flair_data, t1_data, t1ce_data, t2_data], axis=3)\n",
    "\n",
    "    # Ensure the output directory exists\n",
    "    if not os.path.exists(output_dir):\n",
    "        os.makedirs(output_dir)\n",
    "\n",
    "    # Save the combined volume in the output directory\n",
    "    img_path = os.path.join(output_dir, example_id + \".nii.gz\")\n",
    "    vol = nib.Nifti1Image(combined_volume, affine, header=header)\n",
    "    nib.save(vol, img_path)\n",
    "\n",
    "    # Process segmentation if available\n",
    "    mask_path = \"\"\n",
    "    seg_path = os.path.join(d, example_id + \"_seg.nii.gz\")\n",
    "    if os.path.exists(seg_path):\n",
    "        seg = nib.load(seg_path)\n",
    "        affine, header = seg.affine, seg.header\n",
    "        seg_data = get_data(seg, \"uint8\")\n",
    "        seg_data[seg_data == 4] = 3  # Adjust labels if necessary\n",
    "        seg = nib.Nifti1Image(seg_data, affine, header=header)\n",
    "        mask_path = os.path.join(output_dir, example_id + \"_seg.nii.gz\")\n",
    "        nib.save(seg, mask_path)\n",
    "\n",
    "    return img_path, mask_path\n"
   ]
  },
  {
   "cell_type": "code",
   "execution_count": 9,
   "id": "2b9743d5-48eb-42b9-9ac5-29ae5828562a",
   "metadata": {},
   "outputs": [],
   "source": [
    "def get_data(nifty, dtype=\"int16\"):\n",
    "    if dtype == \"int16\":\n",
    "        data = np.abs(nifty.get_fdata().astype(np.int16))\n",
    "        data[data == -32768] = 0  # Handle edge cases\n",
    "        return data\n",
    "    return nifty.get_fdata().astype(np.uint8)\n",
    "# Initialize lists to store paths\n",
    "train_volume_path = []\n",
    "train_segmentation_path = []\n"
   ]
  },
  {
   "cell_type": "code",
   "execution_count": 10,
   "id": "f5ade618-7805-4e25-85e1-49e21f929810",
   "metadata": {},
   "outputs": [
    {
     "name": "stdout",
     "output_type": "stream",
     "text": [
      "Processing ../data/train_minidata2021/BraTS2021_00063...\n",
      "Files in ../data/train_minidata2021/BraTS2021_00063: ['BraTS2021_00063_t1ce.nii.gz', 'BraTS2021_00063_seg.nii.gz', 'BraTS2021_00063_t2.nii.gz', 'BraTS2021_00063_t1.nii.gz', 'BraTS2021_00063_flair.nii.gz']\n",
      "Processing ../data/train_minidata2021/BraTS2021_00064...\n",
      "Files in ../data/train_minidata2021/BraTS2021_00064: ['BraTS2021_00064_t1.nii.gz', 'BraTS2021_00064_t1ce.nii.gz', 'BraTS2021_00064_seg.nii.gz', 'BraTS2021_00064_t2.nii.gz', 'BraTS2021_00064_flair.nii.gz']\n",
      "Processing ../data/train_minidata2021/BraTS2021_00062...\n",
      "Files in ../data/train_minidata2021/BraTS2021_00062: ['BraTS2021_00062_flair.nii.gz', 'BraTS2021_00062_t2.nii.gz', 'BraTS2021_00062_t1ce.nii.gz', 'BraTS2021_00062_seg.nii.gz', 'BraTS2021_00062_t1.nii.gz']\n",
      "Processing ../data/train_minidata2021/processed_train...\n",
      "Files in ../data/train_minidata2021/processed_train: ['BraTS2021_00062.nii.gz', 'BraTS2021_00064_seg.nii.gz', 'BraTS2021_00063_seg.nii.gz', 'BraTS2021_00064.nii.gz', 'BraTS2021_00062_seg.nii.gz', 'BraTS2021_00090.nii.gz', 'BraTS2021_00063.nii.gz', 'BraTS2021_00090_seg.nii.gz']\n",
      "No such file or no access: '../data/train_minidata2021/processed_train/processed_train_flair.nii.gz'\n",
      "Train Volume Paths: ['../data/train_minidata2021/processed_train/BraTS2021_00063.nii.gz'\n",
      " '../data/train_minidata2021/processed_train/BraTS2021_00064.nii.gz'\n",
      " '../data/train_minidata2021/processed_train/BraTS2021_00062.nii.gz']\n",
      "Train Segmentation Paths: ['../data/train_minidata2021/processed_train/BraTS2021_00063_seg.nii.gz'\n",
      " '../data/train_minidata2021/processed_train/BraTS2021_00064_seg.nii.gz'\n",
      " '../data/train_minidata2021/processed_train/BraTS2021_00062_seg.nii.gz']\n"
     ]
    }
   ],
   "source": [
    "for subject_dir in os.listdir(main_directory):\n",
    "    subject_path = os.path.join(main_directory, subject_dir)\n",
    "    if os.path.isdir(subject_path):  # Check if it's a directory\n",
    "        print(f\"Processing {subject_path}...\")\n",
    "        try:\n",
    "            # List the contents of the directory\n",
    "            files = os.listdir(subject_path)\n",
    "            print(f\"Files in {subject_path}: {files}\")\n",
    "            \n",
    "            img_path, mask_path = prepare_nifty(subject_path, output_directory)\n",
    "            train_volume_path.append(img_path)\n",
    "            train_segmentation_path.append(mask_path if mask_path else None)\n",
    "        except FileNotFoundError as e:\n",
    "            print(e)  # Print the error if any file is missing\n",
    "        except Exception as e:\n",
    "            print(f\"An error occurred while processing {subject_path}: {e}\")\n",
    "\n",
    "# Convert lists to arrays\n",
    "train_volume_path = np.array(train_volume_path)\n",
    "train_segmentation_path = np.array(train_segmentation_path)\n",
    "\n",
    "# Print the arrays\n",
    "print(\"Train Volume Paths:\", train_volume_path)\n",
    "print(\"Train Segmentation Paths:\", train_segmentation_path)\n"
   ]
  },
  {
   "cell_type": "code",
   "execution_count": 11,
   "id": "cee8209c-11f2-46ad-bf17-44afd5fe0dc5",
   "metadata": {},
   "outputs": [],
   "source": [
    "def get_data(nifty, dtype=\"int16\"):\n",
    "    if dtype == \"int16\":\n",
    "        data = np.abs(nifty.get_fdata().astype(np.int16))\n",
    "        data[data == -32768] = 0  # Handle edge cases\n",
    "        return data\n",
    "    return nifty.get_fdata().astype(np.uint8)\n",
    "\n",
    "# Initialize lists to store paths\n",
    "val_volumes_path = []\n",
    "val_segmentations_path = []\n"
   ]
  },
  {
   "cell_type": "code",
   "execution_count": 12,
   "id": "41df3f84-04f0-4e34-8666-f9ff03b0f973",
   "metadata": {},
   "outputs": [
    {
     "name": "stdout",
     "output_type": "stream",
     "text": [
      "Processing ../data/validation_minidata2021/BraTS2021_00090...\n",
      "Files in ../data/validation_minidata2021/BraTS2021_00090: ['BraTS2021_00090_t1ce.nii.gz', 'BraTS2021_00090_flair.nii.gz', 'BraTS2021_00090_t2.nii.gz', 'BraTS2021_00090_t1.nii.gz', 'BraTS2021_00090_seg.nii.gz']\n",
      "val Volume Paths: ['../data/train_minidata2021/processed_train/BraTS2021_00090.nii.gz']\n",
      "val Segmentation Paths: ['../data/train_minidata2021/processed_train/BraTS2021_00090_seg.nii.gz']\n"
     ]
    }
   ],
   "source": [
    "for subject_dir in os.listdir(main_directory_val):\n",
    "    subject_path = os.path.join(main_directory_val, subject_dir)\n",
    "    if os.path.isdir(subject_path):  # Check if it's a directory\n",
    "        print(f\"Processing {subject_path}...\")\n",
    "        try:\n",
    "            # List the contents of the directory\n",
    "            files = os.listdir(subject_path)\n",
    "            print(f\"Files in {subject_path}: {files}\")\n",
    "            \n",
    "            img_path, mask_path = prepare_nifty(subject_path, output_directory)\n",
    "            val_volumes_path.append(img_path)\n",
    "            val_segmentations_path.append(mask_path if mask_path else None)\n",
    "        except FileNotFoundError as e:\n",
    "            print(e)  # Print the error if any file is missing\n",
    "        except Exception as e:\n",
    "            print(f\"An error occurred while processing {subject_path}: {e}\")\n",
    "\n",
    "# Convert lists to arrays\n",
    "val_volumes_path = np.array(val_volumes_path)\n",
    "val_segmentations_path = np.array(val_segmentations_path)\n",
    "\n",
    "# Print the arrays\n",
    "print(\"val Volume Paths:\", val_volumes_path)\n",
    "print(\"val Segmentation Paths:\", val_segmentations_path)\n"
   ]
  },
  {
   "cell_type": "code",
   "execution_count": 13,
   "id": "59e08ac5-7234-4fe7-8d98-bba3c221fab2",
   "metadata": {},
   "outputs": [
    {
     "name": "stdout",
     "output_type": "stream",
     "text": [
      "(240, 240, 155, 4)\n",
      "(240, 240, 155)\n",
      "(240, 240, 155, 4)\n",
      "(240, 240, 155)\n"
     ]
    }
   ],
   "source": [
    "print(nib.load(train_volume_path[0]).get_fdata().shape)\n",
    "print(nib.load(train_segmentation_path[0]).get_fdata().shape)\n",
    "print(nib.load(val_volumes_path[0]).get_fdata().shape)\n",
    "print(nib.load(val_segmentations_path[0]).get_fdata().shape)"
   ]
  },
  {
   "cell_type": "code",
   "execution_count": 14,
   "id": "8dc2a68b-5ef8-4a24-82c5-63739c762281",
   "metadata": {},
   "outputs": [],
   "source": [
    "class permute_and_add_axis_to_mask(object):\n",
    "    def __call__(self, sample):\n",
    "        # Previous: (240, 240, 155, 4) , need to change to (4, 155, 240, 240) i.e. (channel, depth, height, width)\n",
    "        image, mask = sample['image'], sample['mask']\n",
    "\n",
    "        image = image.transpose((3, 2, 0, 1))\n",
    "        mask = mask.transpose((2, 0, 1))\n",
    "\n",
    "        mask= mask[np.newaxis, ...]\n",
    "        return {'image':image,\n",
    "                'mask':mask}"
   ]
  },
  {
   "cell_type": "code",
   "execution_count": 15,
   "id": "652cefe3-bbf8-4d8b-b314-4beeea534e76",
   "metadata": {},
   "outputs": [],
   "source": [
    "class BratsDataset(Dataset):\n",
    "    def __init__(self, images_path_list, masks_path_list, transform=None):\n",
    "        \"\"\"\n",
    "        Args:\n",
    "            images_path_list (list of strings): List of paths to input images.\n",
    "            masks_path_list (list of strings): List of paths to masks.\n",
    "            transform (callable, optional): Optional transform to be applied\n",
    "                on a sample.\n",
    "        \"\"\"\n",
    "        self.images_path_list = images_path_list\n",
    "        self.masks_path_list = masks_path_list\n",
    "        self.transform = transform\n",
    "        self.length = len(images_path_list)\n",
    "\n",
    "    def __len__(self):\n",
    "        return self.length\n",
    "\n",
    "    def __getitem__(self, idx):\n",
    "        # Load image\n",
    "        image_path = self.images_path_list[idx]\n",
    "        image = nib.load(image_path).get_fdata()\n",
    "        image = np.float32(image) # shape of image [240, 240, 155, 4]\n",
    "\n",
    "        # Load mask\n",
    "        mask_path = self.masks_path_list[idx]\n",
    "        mask = nib.load(mask_path).get_fdata()\n",
    "        mask = np.float32(mask) # shape of mask [240, 240, 155]\n",
    "\n",
    "        sample = {'image': image, 'mask': mask}\n",
    "\n",
    "        if self.transform:\n",
    "            sample = self.transform(sample)\n",
    "        \n",
    "        return sample"
   ]
  },
  {
   "cell_type": "code",
   "execution_count": 16,
   "id": "35f46017-8949-434a-b071-6ac7b1fe2959",
   "metadata": {},
   "outputs": [],
   "source": [
    "rescale_transform = tio.Resize(\n",
    "    keys=['image', 'mask'],\n",
    "    target_shape=(128, 240, 240)\n",
    ")"
   ]
  },
  {
   "cell_type": "code",
   "execution_count": 17,
   "id": "f0310df9-5b58-44c4-8901-41816f6c211d",
   "metadata": {},
   "outputs": [],
   "source": [
    "data_transform = Compose([ # input image of shape [240, 240, 155, 4]\n",
    "    permute_and_add_axis_to_mask(), # image: [4, 155, 240, 240], mask[1, 155, 240, 240] # new channel in the first dimension is added in mask inorder to make compatible with Resize() as Resize takes only 4D tensor\n",
    "    rescale_transform,\n",
    "])"
   ]
  },
  {
   "cell_type": "code",
   "execution_count": 18,
   "id": "299c036b-48cf-4058-82db-9b079825afbf",
   "metadata": {},
   "outputs": [],
   "source": [
    "train_ds = BratsDataset(\n",
    "    train_volume_path,\n",
    "    train_segmentation_path,\n",
    "    transform=data_transform\n",
    ")\n",
    "\n",
    "val_ds = BratsDataset(\n",
    "    val_volumes_path,\n",
    "    val_segmentations_path,\n",
    "    transform=data_transform\n",
    ")"
   ]
  },
  {
   "cell_type": "code",
   "execution_count": 19,
   "id": "8823dc47-8bd6-46fc-b401-5de6ba3dc4ca",
   "metadata": {},
   "outputs": [
    {
     "data": {
      "text/plain": [
       "torch.Size([4, 128, 240, 240])"
      ]
     },
     "execution_count": 19,
     "metadata": {},
     "output_type": "execute_result"
    }
   ],
   "source": [
    "train_ds[0]['image'].shape # previously numpy array of (240, 240, 155, 4), Now changed to: (4, 155, 240, 240)"
   ]
  },
  {
   "cell_type": "code",
   "execution_count": 20,
   "id": "152c5d1c-41ff-410d-bdd8-0e52e346544c",
   "metadata": {},
   "outputs": [
    {
     "data": {
      "text/plain": [
       "torch.Size([1, 128, 240, 240])"
      ]
     },
     "execution_count": 20,
     "metadata": {},
     "output_type": "execute_result"
    }
   ],
   "source": [
    "train_ds[0]['mask'].shape # Before: (240, 240, 155) After:(1, 128, 240, 240)\n"
   ]
  },
  {
   "cell_type": "code",
   "execution_count": 21,
   "id": "1e475c1e-56fd-4573-8f6b-1f433be1cd8d",
   "metadata": {},
   "outputs": [
    {
     "data": {
      "text/plain": [
       "torch.Size([4, 128, 240, 240])"
      ]
     },
     "execution_count": 21,
     "metadata": {},
     "output_type": "execute_result"
    }
   ],
   "source": [
    "sample_patient = train_ds[1]\n",
    "sample_patient['image'].shape\n",
    "\n"
   ]
  },
  {
   "cell_type": "code",
   "execution_count": 22,
   "id": "0e64ff2f-e168-4a26-a2d1-72c7b7102116",
   "metadata": {},
   "outputs": [
    {
     "data": {
      "image/png": "[encoded data removed]",
      "text/plain": [
       "<Figure size 640x480 with 1 Axes>"
      ]
     },
     "metadata": {},
     "output_type": "display_data"
    }
   ],
   "source": [
    "modality = 0\n",
    "slice_idx = 90\n",
    "plt.imshow(sample_patient['image'][modality, slice_idx, :, :], cmap='gray')\n",
    "plt.imshow(sample_patient['mask'][0, slice_idx, :, :], alpha=0.4) # since channel dimension is also added on the mask volume\n",
    "plt.show()\n"
   ]
  },
  {
   "cell_type": "code",
   "execution_count": 23,
   "id": "ca2fb85d-b1e1-4ce0-b03d-f33dfd30a531",
   "metadata": {},
   "outputs": [
    {
     "name": "stdout",
     "output_type": "stream",
     "text": [
      "sample_mask_slice torch.Size([240, 240])\n"
     ]
    },
    {
     "data": {
      "image/png": "[encoded data removed]",
      "text/plain": [
       "<Figure size 1500x1500 with 5 Axes>"
      ]
     },
     "metadata": {},
     "output_type": "display_data"
    }
   ],
   "source": [
    "patient_num = random.randint(0, len(train_ds)-1) # random patient\n",
    "slice_idx = 75 # Extract 75th slice\n",
    "\n",
    "sample_image = train_ds[patient_num]['image'] # (4, 128, 240, 240)\n",
    "sample_mask = train_ds[patient_num]['mask'] # (1, 128, 240, 240)\n",
    "sample_image_slice = sample_image[:, slice_idx, :, :] # (4, 240, 240)\n",
    "sample_mask_slice = sample_mask[0,slice_idx,:, :] # (240, 240)\n",
    "print('sample_mask_slice', sample_mask_slice.shape)\n",
    "fig, axes = plt.subplots(nrows=1, ncols=5, figsize=(15, 15))\n",
    "labels = []\n",
    "\n",
    "# Iterate through first 4 modalities and display them\n",
    "for i, ax in enumerate(axes[:-1]):\n",
    "    ax.set_xlabel(f\"\")\n",
    "    ax.imshow(sample_image_slice[i,:,:], cmap='gray') # prints 4 modalities of image in 4 columns\n",
    "    ax.set_xticks([])\n",
    "    ax.set_yticks([])\n",
    "\n",
    "# Display the mask in last column\n",
    "axes[-1].imshow(sample_mask_slice)\n",
    "axes[-1].set_xticks([])\n",
    "axes[-1].set_yticks([])\n",
    "plt.show()"
   ]
  },
  {
   "cell_type": "code",
   "execution_count": 24,
   "id": "31fdb750-6a37-4b16-b5c9-a0be8ed456f4",
   "metadata": {},
   "outputs": [],
   "source": [
    "train_loader = DataLoader(dataset=train_ds,\n",
    "                          batch_size=1,\n",
    "                          shuffle=True)\n",
    "val_loader = DataLoader(dataset=val_ds,\n",
    "                        batch_size=1,\n",
    "                        shuffle=False)"
   ]
  },
  {
   "cell_type": "code",
   "execution_count": 25,
   "id": "0a9801ff-c87c-485f-9775-2d3a8c9bc126",
   "metadata": {},
   "outputs": [
    {
     "name": "stdout",
     "output_type": "stream",
     "text": [
      "Batch images shape torch.Size([1, 4, 128, 240, 240])\n",
      "Batch masks shape torch.Size([1, 1, 128, 240, 240])\n",
      "--------------------\n"
     ]
    }
   ],
   "source": [
    "\n",
    "for batch in train_loader:\n",
    "    images = batch['image']\n",
    "    masks = batch['mask']\n",
    "    print(f'Batch images shape {images.shape}')\n",
    "    print(f'Batch masks shape {masks.shape}')\n",
    "    print('--------------------')\n",
    "    break"
   ]
  },
  {
   "cell_type": "code",
   "execution_count": 26,
   "id": "b3b9076a-8ce9-4eb5-890e-bfe207e498a3",
   "metadata": {},
   "outputs": [
    {
     "data": {
      "text/plain": [
       "3"
      ]
     },
     "execution_count": 26,
     "metadata": {},
     "output_type": "execute_result"
    }
   ],
   "source": [
    "len(train_loader) # Get the total number of batches. Returned 5, which means 5 batch of data each with shape(batch_size=2, 4, 155, 240, 240)\n"
   ]
  },
  {
   "cell_type": "code",
   "execution_count": 27,
   "id": "b25d736e-3885-4450-b8ce-42c52a51437e",
   "metadata": {},
   "outputs": [],
   "source": [
    "a_batch_image_mask = next(iter(train_loader))\n"
   ]
  },
  {
   "cell_type": "code",
   "execution_count": 28,
   "id": "9429ccd3-a80d-4b10-9646-187a97eeb499",
   "metadata": {},
   "outputs": [],
   "source": [
    "a_batch_mask = a_batch_image_mask['mask']\n"
   ]
  },
  {
   "cell_type": "code",
   "execution_count": 29,
   "id": "95cb5be8-a722-4354-9f5c-c16b2910f0e3",
   "metadata": {},
   "outputs": [
    {
     "data": {
      "text/plain": [
       "torch.Size([1, 1, 128, 240, 240])"
      ]
     },
     "execution_count": 29,
     "metadata": {},
     "output_type": "execute_result"
    }
   ],
   "source": [
    "a_batch_mask.shape\n"
   ]
  },
  {
   "cell_type": "code",
   "execution_count": 30,
   "id": "43c81e89-efdf-4d93-bfc0-03856c202958",
   "metadata": {},
   "outputs": [
    {
     "data": {
      "text/plain": [
       "torch.Size([1, 128, 240, 240])"
      ]
     },
     "execution_count": 30,
     "metadata": {},
     "output_type": "execute_result"
    }
   ],
   "source": [
    "a_mask_volume = a_batch_mask[0, :, :, :] # select first sample from the batch\n",
    "a_mask_volume.shape\n"
   ]
  },
  {
   "cell_type": "code",
   "execution_count": 31,
   "id": "11e54867-24bc-41ed-ad10-946c8d0fc528",
   "metadata": {},
   "outputs": [
    {
     "data": {
      "text/plain": [
       "torch.Size([240, 240])"
      ]
     },
     "execution_count": 31,
     "metadata": {},
     "output_type": "execute_result"
    }
   ],
   "source": [
    "a_mask_slice = a_mask_volume[0, 75, :, :] # get 75th slice\n",
    "a_mask_slice.shape"
   ]
  },
  {
   "cell_type": "code",
   "execution_count": 32,
   "id": "5c40ea88-5911-4629-9216-b36d06d21d44",
   "metadata": {},
   "outputs": [
    {
     "name": "stderr",
     "output_type": "stream",
     "text": [
      "2024-05-22 09:18:04.723663: I tensorflow/core/util/port.cc:113] oneDNN custom operations are on. You may see slightly different numerical results due to floating-point round-off errors from different computation orders. To turn them off, set the environment variable `TF_ENABLE_ONEDNN_OPTS=0`.\n",
      "2024-05-22 09:18:04.761870: I external/local_tsl/tsl/cuda/cudart_stub.cc:31] Could not find cuda drivers on your machine, GPU will not be used.\n",
      "2024-05-22 09:18:04.950748: E external/local_xla/xla/stream_executor/cuda/cuda_dnn.cc:9261] Unable to register cuDNN factory: Attempting to register factory for plugin cuDNN when one has already been registered\n",
      "2024-05-22 09:18:04.950832: E external/local_xla/xla/stream_executor/cuda/cuda_fft.cc:607] Unable to register cuFFT factory: Attempting to register factory for plugin cuFFT when one has already been registered\n",
      "2024-05-22 09:18:04.982378: E external/local_xla/xla/stream_executor/cuda/cuda_blas.cc:1515] Unable to register cuBLAS factory: Attempting to register factory for plugin cuBLAS when one has already been registered\n",
      "2024-05-22 09:18:05.049737: I tensorflow/core/platform/cpu_feature_guard.cc:182] This TensorFlow binary is optimized to use available CPU instructions in performance-critical operations.\n",
      "To enable the following instructions: AVX2 AVX512F AVX512_VNNI FMA, in other operations, rebuild TensorFlow with the appropriate compiler flags.\n",
      "2024-05-22 09:18:06.694613: W tensorflow/compiler/tf2tensorrt/utils/py_utils.cc:38] TF-TRT Warning: Could not find TensorRT\n"
     ]
    }
   ],
   "source": [
    "import torch\n",
    "import monai\n",
    "\n",
    "\n",
    "# In[129]:\n",
    "\n",
    "\n",
    "from monai.networks.nets import UNet\n",
    "from monai.losses import DiceLoss"
   ]
  },
  {
   "cell_type": "code",
   "execution_count": 33,
   "id": "f0e4d7f3-5ab8-4911-b7c0-c12345f23532",
   "metadata": {},
   "outputs": [
    {
     "name": "stdout",
     "output_type": "stream",
     "text": [
      "UNet(\n",
      "  (model): Sequential(\n",
      "    (0): Convolution(\n",
      "      (conv): Conv3d(4, 16, kernel_size=(3, 3, 3), stride=(2, 2, 2), padding=(1, 1, 1))\n",
      "      (adn): ADN(\n",
      "        (N): InstanceNorm3d(16, eps=1e-05, momentum=0.1, affine=False, track_running_stats=False)\n",
      "        (D): Dropout(p=0.0, inplace=False)\n",
      "        (A): PReLU(num_parameters=1)\n",
      "      )\n",
      "    )\n",
      "    (1): SkipConnection(\n",
      "      (submodule): Sequential(\n",
      "        (0): Convolution(\n",
      "          (conv): Conv3d(16, 32, kernel_size=(3, 3, 3), stride=(2, 2, 2), padding=(1, 1, 1))\n",
      "          (adn): ADN(\n",
      "            (N): InstanceNorm3d(32, eps=1e-05, momentum=0.1, affine=False, track_running_stats=False)\n",
      "            (D): Dropout(p=0.0, inplace=False)\n",
      "            (A): PReLU(num_parameters=1)\n",
      "          )\n",
      "        )\n",
      "        (1): SkipConnection(\n",
      "          (submodule): Sequential(\n",
      "            (0): Convolution(\n",
      "              (conv): Conv3d(32, 64, kernel_size=(3, 3, 3), stride=(2, 2, 2), padding=(1, 1, 1))\n",
      "              (adn): ADN(\n",
      "                (N): InstanceNorm3d(64, eps=1e-05, momentum=0.1, affine=False, track_running_stats=False)\n",
      "                (D): Dropout(p=0.0, inplace=False)\n",
      "                (A): PReLU(num_parameters=1)\n",
      "              )\n",
      "            )\n",
      "            (1): SkipConnection(\n",
      "              (submodule): Sequential(\n",
      "                (0): Convolution(\n",
      "                  (conv): Conv3d(64, 128, kernel_size=(3, 3, 3), stride=(2, 2, 2), padding=(1, 1, 1))\n",
      "                  (adn): ADN(\n",
      "                    (N): InstanceNorm3d(128, eps=1e-05, momentum=0.1, affine=False, track_running_stats=False)\n",
      "                    (D): Dropout(p=0.0, inplace=False)\n",
      "                    (A): PReLU(num_parameters=1)\n",
      "                  )\n",
      "                )\n",
      "                (1): SkipConnection(\n",
      "                  (submodule): Convolution(\n",
      "                    (conv): Conv3d(128, 256, kernel_size=(3, 3, 3), stride=(1, 1, 1), padding=(1, 1, 1))\n",
      "                    (adn): ADN(\n",
      "                      (N): InstanceNorm3d(256, eps=1e-05, momentum=0.1, affine=False, track_running_stats=False)\n",
      "                      (D): Dropout(p=0.0, inplace=False)\n",
      "                      (A): PReLU(num_parameters=1)\n",
      "                    )\n",
      "                  )\n",
      "                )\n",
      "                (2): Convolution(\n",
      "                  (conv): ConvTranspose3d(384, 64, kernel_size=(3, 3, 3), stride=(2, 2, 2), padding=(1, 1, 1), output_padding=(1, 1, 1))\n",
      "                  (adn): ADN(\n",
      "                    (N): InstanceNorm3d(64, eps=1e-05, momentum=0.1, affine=False, track_running_stats=False)\n",
      "                    (D): Dropout(p=0.0, inplace=False)\n",
      "                    (A): PReLU(num_parameters=1)\n",
      "                  )\n",
      "                )\n",
      "              )\n",
      "            )\n",
      "            (2): Convolution(\n",
      "              (conv): ConvTranspose3d(128, 32, kernel_size=(3, 3, 3), stride=(2, 2, 2), padding=(1, 1, 1), output_padding=(1, 1, 1))\n",
      "              (adn): ADN(\n",
      "                (N): InstanceNorm3d(32, eps=1e-05, momentum=0.1, affine=False, track_running_stats=False)\n",
      "                (D): Dropout(p=0.0, inplace=False)\n",
      "                (A): PReLU(num_parameters=1)\n",
      "              )\n",
      "            )\n",
      "          )\n",
      "        )\n",
      "        (2): Convolution(\n",
      "          (conv): ConvTranspose3d(64, 16, kernel_size=(3, 3, 3), stride=(2, 2, 2), padding=(1, 1, 1), output_padding=(1, 1, 1))\n",
      "          (adn): ADN(\n",
      "            (N): InstanceNorm3d(16, eps=1e-05, momentum=0.1, affine=False, track_running_stats=False)\n",
      "            (D): Dropout(p=0.0, inplace=False)\n",
      "            (A): PReLU(num_parameters=1)\n",
      "          )\n",
      "        )\n",
      "      )\n",
      "    )\n",
      "    (2): Convolution(\n",
      "      (conv): ConvTranspose3d(32, 4, kernel_size=(3, 3, 3), stride=(2, 2, 2), padding=(1, 1, 1), output_padding=(1, 1, 1))\n",
      "    )\n",
      "  )\n",
      ")\n"
     ]
    }
   ],
   "source": [
    "model = UNet(\n",
    "    spatial_dims=3,        # 3 for using 3D ConvNet and 3D Maxpooling\n",
    "    in_channels=4,         # since 4 modalities\n",
    "    out_channels=4,        # 4 sub-regions to segment\n",
    "    channels=(16, 32, 64, 128, 256),\n",
    "    strides=(2, 2, 2, 2),\n",
    ").to(my_device)\n",
    "print(model)"
   ]
  },
  {
   "cell_type": "code",
   "execution_count": 34,
   "id": "163a449f-163f-447b-b90f-10997ac450e6",
   "metadata": {},
   "outputs": [
    {
     "name": "stdout",
     "output_type": "stream",
     "text": [
      "----------------------------------------------------------------\n",
      "        Layer (type)               Output Shape         Param #\n",
      "================================================================\n",
      "            Conv3d-1     [-1, 16, 64, 120, 120]           1,744\n",
      "    InstanceNorm3d-2     [-1, 16, 64, 120, 120]               0\n",
      "           Dropout-3     [-1, 16, 64, 120, 120]               0\n",
      "             PReLU-4     [-1, 16, 64, 120, 120]               1\n",
      "            Conv3d-5       [-1, 32, 32, 60, 60]          13,856\n",
      "    InstanceNorm3d-6       [-1, 32, 32, 60, 60]               0\n",
      "           Dropout-7       [-1, 32, 32, 60, 60]               0\n",
      "             PReLU-8       [-1, 32, 32, 60, 60]               1\n",
      "            Conv3d-9       [-1, 64, 16, 30, 30]          55,360\n",
      "   InstanceNorm3d-10       [-1, 64, 16, 30, 30]               0\n",
      "          Dropout-11       [-1, 64, 16, 30, 30]               0\n",
      "            PReLU-12       [-1, 64, 16, 30, 30]               1\n",
      "           Conv3d-13       [-1, 128, 8, 15, 15]         221,312\n",
      "   InstanceNorm3d-14       [-1, 128, 8, 15, 15]               0\n",
      "          Dropout-15       [-1, 128, 8, 15, 15]               0\n",
      "            PReLU-16       [-1, 128, 8, 15, 15]               1\n",
      "           Conv3d-17       [-1, 256, 8, 15, 15]         884,992\n",
      "   InstanceNorm3d-18       [-1, 256, 8, 15, 15]               0\n",
      "          Dropout-19       [-1, 256, 8, 15, 15]               0\n",
      "            PReLU-20       [-1, 256, 8, 15, 15]               1\n",
      "   SkipConnection-21       [-1, 384, 8, 15, 15]               0\n",
      "  ConvTranspose3d-22       [-1, 64, 16, 30, 30]         663,616\n",
      "   InstanceNorm3d-23       [-1, 64, 16, 30, 30]               0\n",
      "          Dropout-24       [-1, 64, 16, 30, 30]               0\n",
      "            PReLU-25       [-1, 64, 16, 30, 30]               1\n",
      "   SkipConnection-26      [-1, 128, 16, 30, 30]               0\n",
      "  ConvTranspose3d-27       [-1, 32, 32, 60, 60]         110,624\n",
      "   InstanceNorm3d-28       [-1, 32, 32, 60, 60]               0\n",
      "          Dropout-29       [-1, 32, 32, 60, 60]               0\n",
      "            PReLU-30       [-1, 32, 32, 60, 60]               1\n",
      "   SkipConnection-31       [-1, 64, 32, 60, 60]               0\n",
      "  ConvTranspose3d-32     [-1, 16, 64, 120, 120]          27,664\n",
      "   InstanceNorm3d-33     [-1, 16, 64, 120, 120]               0\n",
      "          Dropout-34     [-1, 16, 64, 120, 120]               0\n",
      "            PReLU-35     [-1, 16, 64, 120, 120]               1\n",
      "   SkipConnection-36     [-1, 32, 64, 120, 120]               0\n",
      "  ConvTranspose3d-37     [-1, 4, 128, 240, 240]           3,460\n",
      "================================================================\n",
      "Total params: 1,982,636\n",
      "Trainable params: 1,982,636\n",
      "Non-trainable params: 0\n",
      "----------------------------------------------------------------\n",
      "Input size (MB): 112.50\n",
      "Forward/backward pass size (MB): 1727.93\n",
      "Params size (MB): 7.56\n",
      "Estimated Total Size (MB): 1847.99\n",
      "----------------------------------------------------------------\n"
     ]
    }
   ],
   "source": [
    "summary(model, input_size=(4, 128, 240, 240))  "
   ]
  },
  {
   "cell_type": "code",
   "execution_count": 35,
   "id": "fe8273d1-d7e7-4ed2-bcf4-dd04bb0a7ce3",
   "metadata": {},
   "outputs": [],
   "source": [
    "def train_step(model,\n",
    "               dataloader,\n",
    "               loss_fn,\n",
    "               optimizer):\n",
    "    # Putting the model in train mode\n",
    "    model.train()\n",
    "\n",
    "    # Initialize train loss\n",
    "    train_loss = 0\n",
    "\n",
    "    # Loop through batches of data\n",
    "    for batch_num, batch_data in enumerate(dataloader):\n",
    "        X = batch_data['image']\n",
    "        Y = batch_data['mask'] # torch.Size([1, 1, 128, 240, 240]) (batch, channel=1, 128, 240, 240)\n",
    "\n",
    "        # Send data to target device\n",
    "        X, Y = X.to(my_device), Y.to(my_device)\n",
    "\n",
    "        # Forward pass\n",
    "        y_pred = model(X) # y_pred shape torch.Size([batch, 4, 128, 240, 240])\n",
    "        \n",
    "        # Compute and accumulate loss\n",
    "        loss = loss_fn(y_pred, Y) # loss one-hot encode the y so y will be [batch, 4, 128, 240, 240] and y_pred is [batch, 4, 128, 240, 240], thus loss is scalar(loss across batch)\n",
    "        train_loss += loss.item()\n",
    "\n",
    "        # Backpropagation and Optimization\n",
    "        optimizer.zero_grad()\n",
    "        loss.backward()\n",
    "        optimizer.step()\n",
    "\n",
    "        # Calculate and accumulate metric across the batch\n",
    "        # y_pred_class = torch.argmax(y_pred, dim=1) # y_pred_class shape [batch, 1, 128, 240, 240] since it takes argmax the channels\n",
    "\n",
    "    # Average loss and accuracy of all batches (average of all batches = 1 epoch)\n",
    "    train_loss = train_loss / len(dataloader)\n",
    "\n",
    "    return train_loss"
   ]
  },
  {
   "cell_type": "code",
   "execution_count": 36,
   "id": "0d1b77b7-b19a-4a8f-b74c-a0d54f24bad5",
   "metadata": {},
   "outputs": [],
   "source": [
    "def val_step(model,\n",
    "              dataloader,\n",
    "              loss_fn):\n",
    "    # Putting model in eval mode\n",
    "    model.eval()\n",
    "\n",
    "    # Initialize test loss\n",
    "    val_loss = 0\n",
    "\n",
    "    # Turn on inference context manager\n",
    "    with torch.inference_mode():\n",
    "        # Loop through batches of data in dataloader\n",
    "        for batch_num, batch_data in enumerate(dataloader):\n",
    "            X = batch_data['image']\n",
    "            Y = batch_data['mask']\n",
    "\n",
    "            # Send data to target device\n",
    "            X, Y = X.to(my_device), Y.to(my_device)\n",
    "\n",
    "            # Forward pass\n",
    "            test_pred_logits = model(X)\n",
    "\n",
    "            # Calculate and accumulate loss\n",
    "            loss = loss_fn(test_pred_logits, Y)\n",
    "            val_loss += loss.item()\n",
    "\n",
    "    return val_loss"
   ]
  },
  {
   "cell_type": "code",
   "execution_count": 37,
   "id": "9a7a2017-f976-4c48-b864-2b8e45e7b5c4",
   "metadata": {},
   "outputs": [],
   "source": [
    "def train_step(model,\n",
    "               dataloader,\n",
    "               loss_fn,\n",
    "               optimizer):\n",
    "    # Putting the model in train mode\n",
    "    model.train()\n",
    "\n",
    "    # Initialize train loss\n",
    "    train_loss = 0\n",
    "\n",
    "    # Loop through batches of data\n",
    "    for batch_num, batch_data in enumerate(dataloader):\n",
    "        X = batch_data['image']\n",
    "        Y = batch_data['mask'] # torch.Size([1, 1, 128, 240, 240]) (batch, channel=1, 128, 240, 240)\n",
    "\n",
    "        # Send data to target device\n",
    "        X, Y = X.to(my_device), Y.to(my_device)\n",
    "\n",
    "        # Forward pass\n",
    "        y_pred = model(X) # y_pred shape torch.Size([batch, 4, 128, 240, 240])\n",
    "        \n",
    "        # Compute and accumulate loss\n",
    "        loss = loss_fn(y_pred, Y) # loss one-hot encode the y so y will be [batch, 4, 128, 240, 240] and y_pred is [batch, 4, 128, 240, 240], thus loss is scalar(loss across batch)\n",
    "        train_loss += loss.item()\n",
    "\n",
    "        # Backpropagation and Optimization\n",
    "        optimizer.zero_grad()\n",
    "        loss.backward()\n",
    "        optimizer.step()\n",
    "\n",
    "        # Calculate and accumulate metric across the batch\n",
    "        # y_pred_class = torch.argmax(y_pred, dim=1) # y_pred_class shape [batch, 1, 128, 240, 240] since it takes argmax the channels\n",
    "\n",
    "    # Average loss and accuracy of all batches (average of all batches = 1 epoch)\n",
    "    train_loss = train_loss / len(dataloader)\n",
    "\n",
    "    return train_loss"
   ]
  },
  {
   "cell_type": "code",
   "execution_count": 38,
   "id": "bf634a83-62c3-41a1-a972-d7160ca4a34e",
   "metadata": {},
   "outputs": [],
   "source": [
    "from tqdm.auto import tqdm\n",
    "\n",
    "# Various parameters required for training and test step\n",
    "def train(model,\n",
    "          train_loader,\n",
    "          val_loader,\n",
    "          optimizer,\n",
    "          loss_fn,\n",
    "          epochs):\n",
    "    \n",
    "    # Creating empty list to hold loss and accuracy\n",
    "    results = {\n",
    "        'train_loss':[],\n",
    "        'val_loss':[],\n",
    "    }\n",
    "\n",
    "    # Looping through traininig and testing steps for a number of epochs\n",
    "    for epoch in tqdm(range(epochs)):\n",
    "        train_loss= train_step(model=model,\n",
    "                                dataloader=train_loader,\n",
    "                                loss_fn=loss_fn,\n",
    "                                optimizer=optimizer)\n",
    "        \n",
    "        val_loss = val_step(model=model,\n",
    "                              dataloader=val_loader,\n",
    "                              loss_fn=loss_fn)\n",
    "        \n",
    "        # Print and append the loss current epoch\n",
    "        # wandb.log({\n",
    "        #     \"train_loss\": train_loss,\n",
    "        #     \"val_loss\": val_loss\n",
    "        # })\n",
    "        print(\n",
    "            f'Epoch: {epoch+1} |'\n",
    "            f'train_loss: {train_loss:.4f} |'\n",
    "            f'val_loss: {val_loss:.4f} |'\n",
    "\n",
    "        )\n",
    "\n",
    "        # Append to the list\n",
    "        results['train_loss'].append(train_loss)\n",
    "        results['val_loss'].append(val_loss)\n",
    "\n",
    "    return results"
   ]
  },
  {
   "cell_type": "code",
   "execution_count": 40,
   "id": "6a28b4a4-5f97-46ba-8f7a-8bb70a1b8afe",
   "metadata": {},
   "outputs": [
    {
     "data": {
      "application/vnd.jupyter.widget-view+json": {
       "model_id": "d6e1c4c7ca074924933b3b9ddc99388e",
       "version_major": 2,
       "version_minor": 0
      },
      "text/plain": [
       "  0%|          | 0/2 [00:00<?, ?it/s]"
      ]
     },
     "metadata": {},
     "output_type": "display_data"
    },
    {
     "name": "stdout",
     "output_type": "stream",
     "text": [
      "Epoch: 1 |train_loss: 0.8703 |val_loss: 0.8589 |\n",
      "Epoch: 2 |train_loss: 0.8579 |val_loss: 0.8472 |\n",
      "Total training time: 39.873 seconds\n"
     ]
    }
   ],
   "source": [
    "random_seed = 42\n",
    "torch.manual_seed(random_seed)\n",
    "torch.cuda.manual_seed(random_seed)\n",
    "monai.utils.set_determinism(seed=random_seed)\n",
    "\n",
    "# Set the number of epochs, loss function and optimizer\n",
    "num_epochs = 2\n",
    "loss_fn = DiceLoss(to_onehot_y=True, softmax=True)\n",
    "optimizer = torch.optim.Adam(params=model.parameters(), lr=0.001)\n",
    "\n",
    "\n",
    "# Start the timer\n",
    "from timeit import default_timer as timer\n",
    "start_time = timer()\n",
    "\n",
    "# Train model\n",
    "model_results = train(model,\n",
    "                      train_loader=train_loader,\n",
    "                      val_loader=val_loader,\n",
    "                      optimizer=optimizer,\n",
    "                      loss_fn=loss_fn,\n",
    "                      epochs=num_epochs)\n",
    "\n",
    "# End the timer and print out how long it took\n",
    "end_time = timer()\n",
    "print(f\"Total training time: {end_time-start_time:.3f} seconds\")\n"
   ]
  },
  {
   "cell_type": "code",
   "execution_count": null,
   "id": "fb41bbd1-efd8-4688-9342-492e8a4968ca",
   "metadata": {},
   "outputs": [],
   "source": []
  }
 ],
 "metadata": {
  "kernelspec": {
   "display_name": "Python 3 (ipykernel)",
   "language": "python",
   "name": "python3"
  },
  "language_info": {
   "codemirror_mode": {
    "name": "ipython",
    "version": 3
   },
   "file_extension": ".py",
   "mimetype": "text/x-python",
   "name": "python",
   "nbconvert_exporter": "python",
   "pygments_lexer": "ipython3",
   "version": "3.11.5"
  }
 },
 "nbformat": 4,
 "nbformat_minor": 5
}
