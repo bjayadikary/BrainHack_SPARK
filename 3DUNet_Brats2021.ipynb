{
 "cells": [
  {
   "cell_type": "code",
   "execution_count": 5,
   "metadata": {},
   "outputs": [],
   "source": [
    "import wandb \n",
    "import os\n",
    "import torch\n",
    "from torch.utils.data import Dataset, DataLoader\n",
    "from torchvision.transforms import Compose, ToTensor\n",
    "\n",
    "from glob import glob as glob\n",
    "import nibabel as nib\n",
    "import numpy as np\n",
    "import matplotlib.pyplot as plt\n",
    "\n",
    "import random\n",
    "import cv2\n",
    "\n",
    "from torchsummary import summary\n",
    "from skimage import transform\n",
    "from skimage.transform import resize\n",
    "import torchio as tio\n",
    "\n"
   ]
  },
  {
   "cell_type": "code",
   "execution_count": 6,
   "metadata": {},
   "outputs": [
    {
     "name": "stderr",
     "output_type": "stream",
     "text": [
      "\u001b[34m\u001b[1mwandb\u001b[0m: Logging into wandb.ai. (Learn how to deploy a W&B server locally: https://wandb.me/wandb-server)\n",
      "\u001b[34m\u001b[1mwandb\u001b[0m: You can find your API key in your browser here: https://wandb.ai/authorize\n",
      "\u001b[34m\u001b[1mwandb\u001b[0m: Paste an API key from your profile and hit enter, or press ctrl+c to quit:"
     ]
    },
    {
     "name": "stdin",
     "output_type": "stream",
     "text": [
      "  ········\n"
     ]
    },
    {
     "name": "stderr",
     "output_type": "stream",
     "text": [
      "\u001b[34m\u001b[1mwandb\u001b[0m: Appending key for api.wandb.ai to your netrc file: /home/laxmi/.netrc\n"
     ]
    },
    {
     "data": {
      "text/plain": [
       "True"
      ]
     },
     "execution_count": 6,
     "metadata": {},
     "output_type": "execute_result"
    }
   ],
   "source": [
    "wandb.login()"
   ]
  },
  {
   "cell_type": "code",
   "execution_count": 8,
   "metadata": {},
   "outputs": [
    {
     "name": "stderr",
     "output_type": "stream",
     "text": [
      "\u001b[34m\u001b[1mwandb\u001b[0m: Currently logged in as: \u001b[33mjustkantapoudel\u001b[0m (\u001b[33mgces\u001b[0m). Use \u001b[1m`wandb login --relogin`\u001b[0m to force relogin\n"
     ]
    },
    {
     "data": {
      "application/vnd.jupyter.widget-view+json": {
       "model_id": "f324960e274446088608aa7747f00b0d",
       "version_major": 2,
       "version_minor": 0
      },
      "text/plain": [
       "VBox(children=(Label(value='Waiting for wandb.init()...\\r'), FloatProgress(value=0.011112768355557516, max=1.0…"
      ]
     },
     "metadata": {},
     "output_type": "display_data"
    },
    {
     "data": {
      "text/html": [
       "Tracking run with wandb version 0.17.0"
      ],
      "text/plain": [
       "<IPython.core.display.HTML object>"
      ]
     },
     "metadata": {},
     "output_type": "display_data"
    },
    {
     "data": {
      "text/html": [
       "Run data is saved locally in <code>/home/laxmi/spark/MedHack/git clone/BrainHack_SPARK/wandb/run-20240521_093646-9o99pf31</code>"
      ],
      "text/plain": [
       "<IPython.core.display.HTML object>"
      ]
     },
     "metadata": {},
     "output_type": "display_data"
    },
    {
     "data": {
      "text/html": [
       "Syncing run <strong><a href='https://wandb.ai/gces/MedHack/runs/9o99pf31' target=\"_blank\">splendid-hill-1</a></strong> to <a href='https://wandb.ai/gces/MedHack' target=\"_blank\">Weights & Biases</a> (<a href='https://wandb.me/run' target=\"_blank\">docs</a>)<br/>"
      ],
      "text/plain": [
       "<IPython.core.display.HTML object>"
      ]
     },
     "metadata": {},
     "output_type": "display_data"
    },
    {
     "data": {
      "text/html": [
       " View project at <a href='https://wandb.ai/gces/MedHack' target=\"_blank\">https://wandb.ai/gces/MedHack</a>"
      ],
      "text/plain": [
       "<IPython.core.display.HTML object>"
      ]
     },
     "metadata": {},
     "output_type": "display_data"
    },
    {
     "data": {
      "text/html": [
       " View run at <a href='https://wandb.ai/gces/MedHack/runs/9o99pf31' target=\"_blank\">https://wandb.ai/gces/MedHack/runs/9o99pf31</a>"
      ],
      "text/plain": [
       "<IPython.core.display.HTML object>"
      ]
     },
     "metadata": {},
     "output_type": "display_data"
    },
    {
     "data": {
      "text/html": [
       "<button onClick=\"this.nextSibling.style.display='block';this.style.display='none';\">Display W&B run</button><iframe src='https://wandb.ai/gces/MedHack/runs/9o99pf31?jupyter=true' style='border:none;width:100%;height:420px;display:none;'></iframe>"
      ],
      "text/plain": [
       "<wandb.sdk.wandb_run.Run at 0x71e475ecc1d0>"
      ]
     },
     "execution_count": 8,
     "metadata": {},
     "output_type": "execute_result"
    }
   ],
   "source": [
    "wandb.init(\n",
    "    project=\"MedHack\",\n",
    "    config={\n",
    "        \"epochs\":10,\n",
    "        \"batch_size\":3,\n",
    "        \"lr\":0.01\n",
    "        }\n",
    "    )"
   ]
  },
  {
   "cell_type": "code",
   "execution_count": null,
   "metadata": {},
   "outputs": [],
   "source": [
    "wandb.log(\"test_loss\":test_loss.item())\n",
    "wandb.Image"
   ]
  },
  {
   "cell_type": "code",
   "execution_count": 69,
   "metadata": {},
   "outputs": [
    {
     "data": {
      "text/plain": [
       "device(type='cpu')"
      ]
     },
     "execution_count": 69,
     "metadata": {},
     "output_type": "execute_result"
    }
   ],
   "source": [
    "my_device = torch.device('cuda:0' if torch.cuda.is_available() else 'cpu')\n",
    "my_device"
   ]
  },
  {
   "cell_type": "markdown",
   "metadata": {},
   "source": [
    "# Dataset"
   ]
  },
  {
   "cell_type": "code",
   "execution_count": 70,
   "metadata": {},
   "outputs": [],
   "source": [
    "def load_nifty(directory, example_id, suffix):\n",
    "    file_path = os.path.join(directory, example_id + \"_\" + suffix + \".nii.gz\")\n",
    "    if not os.path.exists(file_path):\n",
    "        raise FileNotFoundError(f\"No such file or no access: '{file_path}'\")\n",
    "    return nib.load(file_path)"
   ]
  },
  {
   "cell_type": "code",
   "execution_count": 71,
   "metadata": {},
   "outputs": [],
   "source": [
    "def load_channels(directory, example_id):\n",
    "    flair = load_nifty(directory, example_id, \"flair\")\n",
    "    t1 = load_nifty(directory, example_id, \"t1\")\n",
    "    t1ce = load_nifty(directory, example_id, \"t1ce\")\n",
    "    t2 = load_nifty(directory, example_id, \"t2\")\n",
    "    return flair, t1, t1ce, t2\n"
   ]
  },
  {
   "cell_type": "code",
   "execution_count": 72,
   "metadata": {},
   "outputs": [],
   "source": [
    "def prepare_nifty(d, output_dir):\n",
    "    example_id = d.split(\"/\")[-1]\n",
    "    flair, t1, t1ce, t2 = load_channels(d, example_id)\n",
    "    affine, header = flair.affine, flair.header\n",
    "\n",
    "    # Load data for each modality\n",
    "    flair_data = get_data(flair)\n",
    "    t1_data = get_data(t1)\n",
    "    t1ce_data = get_data(t1ce)\n",
    "    t2_data = get_data(t2)\n",
    "\n",
    "    # Combine into a single volume\n",
    "    combined_volume = np.stack([flair_data, t1_data, t1ce_data, t2_data], axis=3)\n",
    "\n",
    "    # Ensure the output directory exists\n",
    "    if not os.path.exists(output_dir):\n",
    "        os.makedirs(output_dir)\n",
    "\n",
    "    # Save the combined volume in the output directory\n",
    "    img_path = os.path.join(output_dir, example_id + \".nii.gz\")\n",
    "    vol = nib.Nifti1Image(combined_volume, affine, header=header)\n",
    "    nib.save(vol, img_path)\n",
    "\n",
    "    # Process segmentation if available\n",
    "    mask_path = \"\"\n",
    "    seg_path = os.path.join(d, example_id + \"_seg.nii.gz\")\n",
    "    if os.path.exists(seg_path):\n",
    "        seg = nib.load(seg_path)\n",
    "        affine, header = seg.affine, seg.header\n",
    "        seg_data = get_data(seg, \"uint8\")\n",
    "        seg_data[seg_data == 4] = 3  # Adjust labels if necessary\n",
    "        seg = nib.Nifti1Image(seg_data, affine, header=header)\n",
    "        mask_path = os.path.join(output_dir, example_id + \"_seg.nii.gz\")\n",
    "        nib.save(seg, mask_path)\n",
    "\n",
    "    return img_path, mask_path"
   ]
  },
  {
   "cell_type": "code",
   "execution_count": 73,
   "metadata": {},
   "outputs": [],
   "source": [
    "def get_data(nifty, dtype=\"int16\"):\n",
    "    if dtype == \"int16\":\n",
    "        data = np.abs(nifty.get_fdata().astype(np.int16))\n",
    "        data[data == -32768] = 0  # Handle edge cases\n",
    "        return data\n",
    "    return nifty.get_fdata().astype(np.uint8)\n",
    "\n",
    "# Path to the main directory containing all the subjects\n",
    "main_directory = \"archive/BraTS2021_Training_Data/test\"\n",
    "output_directory = \"archive/BraTS2021_Training_Data/processed_train\"\n",
    "\n",
    "# Initialize lists to store paths\n",
    "train_volume_path = []\n",
    "train_segmentation_path = []"
   ]
  },
  {
   "cell_type": "code",
   "execution_count": 74,
   "metadata": {},
   "outputs": [
    {
     "name": "stdout",
     "output_type": "stream",
     "text": [
      "Processing archive/BraTS2021_Training_Data/test/BraTS2021_01620...\n",
      "Files in archive/BraTS2021_Training_Data/test/BraTS2021_01620: ['BraTS2021_01620_flair.nii.gz', 'BraTS2021_01620_t1.nii.gz', 'BraTS2021_01620_t2.nii.gz', 'BraTS2021_01620_seg.nii.gz', 'BraTS2021_01620_t1ce.nii.gz']\n",
      "Processing archive/BraTS2021_Training_Data/test/processed_val...\n",
      "Files in archive/BraTS2021_Training_Data/test/processed_val: ['BraTS2021_01578.nii.gz', 'BraTS2021_01578_seg.nii.gz']\n",
      "No such file or no access: 'archive/BraTS2021_Training_Data/test/processed_val/processed_val_flair.nii.gz'\n",
      "Processing archive/BraTS2021_Training_Data/test/BraTS2021_01628...\n",
      "Files in archive/BraTS2021_Training_Data/test/BraTS2021_01628: ['BraTS2021_01628_flair.nii.gz', 'BraTS2021_01628_t1.nii.gz', 'BraTS2021_01628_seg.nii.gz', 'BraTS2021_01628_t1ce.nii.gz', 'BraTS2021_01628_t2.nii.gz']\n",
      "Processing archive/BraTS2021_Training_Data/test/BraTS2021_01559...\n",
      "Files in archive/BraTS2021_Training_Data/test/BraTS2021_01559: ['BraTS2021_01559_t1.nii.gz', 'BraTS2021_01559_t2.nii.gz', 'BraTS2021_01559_flair.nii.gz', 'BraTS2021_01559_t1ce.nii.gz', 'BraTS2021_01559_seg.nii.gz']\n",
      "Processing archive/BraTS2021_Training_Data/test/BraTS2021_01560...\n",
      "Files in archive/BraTS2021_Training_Data/test/BraTS2021_01560: ['BraTS2021_01560_t2.nii.gz', 'BraTS2021_01560_t1.nii.gz', 'BraTS2021_01560_t1ce.nii.gz', 'BraTS2021_01560_seg.nii.gz', 'BraTS2021_01560_flair.nii.gz']\n",
      "Train Volume Paths: ['archive/BraTS2021_Training_Data/processed_train/BraTS2021_01620.nii.gz'\n",
      " 'archive/BraTS2021_Training_Data/processed_train/BraTS2021_01628.nii.gz'\n",
      " 'archive/BraTS2021_Training_Data/processed_train/BraTS2021_01559.nii.gz'\n",
      " 'archive/BraTS2021_Training_Data/processed_train/BraTS2021_01560.nii.gz']\n",
      "Train Segmentation Paths: ['archive/BraTS2021_Training_Data/processed_train/BraTS2021_01620_seg.nii.gz'\n",
      " 'archive/BraTS2021_Training_Data/processed_train/BraTS2021_01628_seg.nii.gz'\n",
      " 'archive/BraTS2021_Training_Data/processed_train/BraTS2021_01559_seg.nii.gz'\n",
      " 'archive/BraTS2021_Training_Data/processed_train/BraTS2021_01560_seg.nii.gz']\n"
     ]
    }
   ],
   "source": [
    "for subject_dir in os.listdir(main_directory):\n",
    "    subject_path = os.path.join(main_directory, subject_dir)\n",
    "    if os.path.isdir(subject_path):  # Check if it's a directory\n",
    "        print(f\"Processing {subject_path}...\")\n",
    "        try:\n",
    "            # List the contents of the directory\n",
    "            files = os.listdir(subject_path)\n",
    "            print(f\"Files in {subject_path}: {files}\")\n",
    "            \n",
    "            img_path, mask_path = prepare_nifty(subject_path, output_directory)\n",
    "            train_volume_path.append(img_path)\n",
    "            train_segmentation_path.append(mask_path if mask_path else None)\n",
    "        except FileNotFoundError as e:\n",
    "            print(e)  # Print the error if any file is missing\n",
    "        except Exception as e:\n",
    "            print(f\"An error occurred while processing {subject_path}: {e}\")\n",
    "\n",
    "# Convert lists to arrays\n",
    "train_volume_path = np.array(train_volume_path)\n",
    "train_segmentation_path = np.array(train_segmentation_path)\n",
    "\n",
    "# Print the arrays\n",
    "print(\"Train Volume Paths:\", train_volume_path)\n",
    "print(\"Train Segmentation Paths:\", train_segmentation_path)\n"
   ]
  },
  {
   "cell_type": "code",
   "execution_count": 75,
   "metadata": {},
   "outputs": [],
   "source": [
    "def get_data(nifty, dtype=\"int16\"):\n",
    "    if dtype == \"int16\":\n",
    "        data = np.abs(nifty.get_fdata().astype(np.int16))\n",
    "        data[data == -32768] = 0  # Handle edge cases\n",
    "        return data\n",
    "    return nifty.get_fdata().astype(np.uint8)\n",
    "\n",
    "# Path to the main directory containing all the subjects\n",
    "main_directory_val = \"archive/BraTS2021_Training_Data/val\"\n",
    "output_directory_val = \"archive/BraTS2021_Training_Data/processed_val\"\n",
    "\n",
    "# Initialize lists to store paths\n",
    "val_volumes_path = []\n",
    "val_segmentations_path = []"
   ]
  },
  {
   "cell_type": "code",
   "execution_count": 76,
   "metadata": {},
   "outputs": [
    {
     "name": "stdout",
     "output_type": "stream",
     "text": [
      "Processing archive/BraTS2021_Training_Data/val/BraTS2021_01578...\n",
      "Files in archive/BraTS2021_Training_Data/val/BraTS2021_01578: ['BraTS2021_01578_flair.nii.gz', 'BraTS2021_01578_t2.nii.gz', 'BraTS2021_01578_seg.nii.gz', 'BraTS2021_01578_t1ce.nii.gz', 'BraTS2021_01578_t1.nii.gz']\n",
      "val Volume Paths: ['archive/BraTS2021_Training_Data/processed_train/BraTS2021_01578.nii.gz']\n",
      "val Segmentation Paths: ['archive/BraTS2021_Training_Data/processed_train/BraTS2021_01578_seg.nii.gz']\n"
     ]
    }
   ],
   "source": [
    "for subject_dir in os.listdir(main_directory_val):\n",
    "    subject_path = os.path.join(main_directory_val, subject_dir)\n",
    "    if os.path.isdir(subject_path):  # Check if it's a directory\n",
    "        print(f\"Processing {subject_path}...\")\n",
    "        try:\n",
    "            # List the contents of the directory\n",
    "            files = os.listdir(subject_path)\n",
    "            print(f\"Files in {subject_path}: {files}\")\n",
    "            \n",
    "            img_path, mask_path = prepare_nifty(subject_path, output_directory)\n",
    "            val_volumes_path.append(img_path)\n",
    "            val_segmentations_path.append(mask_path if mask_path else None)\n",
    "        except FileNotFoundError as e:\n",
    "            print(e)  # Print the error if any file is missing\n",
    "        except Exception as e:\n",
    "            print(f\"An error occurred while processing {subject_path}: {e}\")\n",
    "\n",
    "# Convert lists to arrays\n",
    "val_volumes_path = np.array(val_volumes_path)\n",
    "val_segmentations_path = np.array(val_segmentations_path)\n",
    "\n",
    "# Print the arrays\n",
    "print(\"val Volume Paths:\", val_volumes_path)\n",
    "print(\"val Segmentation Paths:\", val_segmentations_path)\n"
   ]
  },
  {
   "cell_type": "code",
   "execution_count": 77,
   "metadata": {},
   "outputs": [
    {
     "data": {
      "text/plain": [
       "(240, 240, 155, 4)"
      ]
     },
     "execution_count": 77,
     "metadata": {},
     "output_type": "execute_result"
    }
   ],
   "source": [
    "nib.load(train_volume_path[0]).get_fdata().shape"
   ]
  },
  {
   "cell_type": "code",
   "execution_count": 78,
   "metadata": {},
   "outputs": [
    {
     "data": {
      "text/plain": [
       "(240, 240, 155)"
      ]
     },
     "execution_count": 78,
     "metadata": {},
     "output_type": "execute_result"
    }
   ],
   "source": [
    "nib.load(train_segmentation_path[0]).get_fdata().shape"
   ]
  },
  {
   "cell_type": "code",
   "execution_count": 79,
   "metadata": {},
   "outputs": [
    {
     "data": {
      "text/plain": [
       "(240, 240, 155, 4)"
      ]
     },
     "execution_count": 79,
     "metadata": {},
     "output_type": "execute_result"
    }
   ],
   "source": [
    "nib.load(val_volumes_path[0]).get_fdata().shape"
   ]
  },
  {
   "cell_type": "code",
   "execution_count": 80,
   "metadata": {},
   "outputs": [
    {
     "data": {
      "text/plain": [
       "(240, 240, 155)"
      ]
     },
     "execution_count": 80,
     "metadata": {},
     "output_type": "execute_result"
    }
   ],
   "source": [
    "nib.load(val_segmentations_path[0]).get_fdata().shape"
   ]
  },
  {
   "cell_type": "code",
   "execution_count": 81,
   "metadata": {},
   "outputs": [],
   "source": [
    "class permute_and_add_axis_to_mask(object):\n",
    "    def __call__(self, sample):\n",
    "        # Previous: (240, 240, 155, 4) , need to change to (4, 155, 240, 240) i.e. (channel, depth, height, width)\n",
    "        image, mask = sample['image'], sample['mask']\n",
    "\n",
    "        image = image.transpose((3, 2, 0, 1))\n",
    "        mask = mask.transpose((2, 0, 1))\n",
    "\n",
    "        mask= mask[np.newaxis, ...]\n",
    "        return {'image':image,\n",
    "                'mask':mask}"
   ]
  },
  {
   "cell_type": "code",
   "execution_count": 82,
   "metadata": {},
   "outputs": [],
   "source": [
    "class BratsDataset(Dataset):\n",
    "    def __init__(self, images_path_list, masks_path_list, transform=None):\n",
    "        \"\"\"\n",
    "        Args:\n",
    "            images_path_list (list of strings): List of paths to input images.\n",
    "            masks_path_list (list of strings): List of paths to masks.\n",
    "            transform (callable, optional): Optional transform to be applied\n",
    "                on a sample.\n",
    "        \"\"\"\n",
    "        self.images_path_list = images_path_list\n",
    "        self.masks_path_list = masks_path_list\n",
    "        self.transform = transform\n",
    "        self.length = len(images_path_list)\n",
    "\n",
    "    def __len__(self):\n",
    "        return self.length\n",
    "\n",
    "    def __getitem__(self, idx):\n",
    "        # Load image\n",
    "        image_path = self.images_path_list[idx]\n",
    "        image = nib.load(image_path).get_fdata()\n",
    "        image = np.float32(image) # shape of image [240, 240, 155, 4]\n",
    "\n",
    "        # Load mask\n",
    "        mask_path = self.masks_path_list[idx]\n",
    "        mask = nib.load(mask_path).get_fdata()\n",
    "        mask = np.float32(mask) # shape of mask [240, 240, 155]\n",
    "\n",
    "        sample = {'image': image, 'mask': mask}\n",
    "\n",
    "        if self.transform:\n",
    "            sample = self.transform(sample)\n",
    "        \n",
    "        return sample\n"
   ]
  },
  {
   "cell_type": "code",
   "execution_count": 83,
   "metadata": {},
   "outputs": [],
   "source": [
    "rescale_transform = tio.Resize(\n",
    "    keys=['image', 'mask'],\n",
    "    target_shape=(128, 240, 240)\n",
    ")"
   ]
  },
  {
   "cell_type": "code",
   "execution_count": 84,
   "metadata": {},
   "outputs": [],
   "source": [
    "data_transform = Compose([ # input image of shape [240, 240, 155, 4]\n",
    "    permute_and_add_axis_to_mask(), # image: [4, 155, 240, 240], mask[1, 155, 240, 240] # new channel in the first dimension is added in mask inorder to make compatible with Resize() as Resize takes only 4D tensor\n",
    "    rescale_transform,\n",
    "])"
   ]
  },
  {
   "cell_type": "code",
   "execution_count": 85,
   "metadata": {},
   "outputs": [],
   "source": [
    "train_ds = BratsDataset(\n",
    "    train_volume_path,\n",
    "    train_segmentation_path,\n",
    "    transform=data_transform\n",
    ")\n",
    "\n",
    "val_ds = BratsDataset(\n",
    "    val_volumes_path,\n",
    "    val_segmentations_path,\n",
    "    transform=data_transform\n",
    ")"
   ]
  },
  {
   "cell_type": "code",
   "execution_count": 86,
   "metadata": {},
   "outputs": [
    {
     "data": {
      "text/plain": [
       "torch.Size([4, 128, 240, 240])"
      ]
     },
     "execution_count": 86,
     "metadata": {},
     "output_type": "execute_result"
    }
   ],
   "source": [
    "train_ds[0]['image'].shape # previously numpy array of (240, 240, 155, 4), Now changed to: (4, 155, 240, 240)"
   ]
  },
  {
   "cell_type": "code",
   "execution_count": 87,
   "metadata": {},
   "outputs": [
    {
     "data": {
      "text/plain": [
       "torch.Size([1, 128, 240, 240])"
      ]
     },
     "execution_count": 87,
     "metadata": {},
     "output_type": "execute_result"
    }
   ],
   "source": [
    "train_ds[0]['mask'].shape # Before: (240, 240, 155) After:(1, 128, 240, 240)"
   ]
  },
  {
   "cell_type": "code",
   "execution_count": 88,
   "metadata": {},
   "outputs": [
    {
     "data": {
      "text/plain": [
       "torch.Size([4, 128, 240, 240])"
      ]
     },
     "execution_count": 88,
     "metadata": {},
     "output_type": "execute_result"
    }
   ],
   "source": [
    "sample_patient = train_ds[1]\n",
    "sample_patient['image'].shape"
   ]
  },
  {
   "cell_type": "code",
   "execution_count": 89,
   "metadata": {},
   "outputs": [
    {
     "data": {
      "image/png": "[encoded data removed]",
      "text/plain": [
       "<Figure size 640x480 with 1 Axes>"
      ]
     },
     "metadata": {},
     "output_type": "display_data"
    }
   ],
   "source": [
    "# This was made for previous dimension, now the dimension is changed, so need resurrection\n",
    "# modality = 1\n",
    "# slice_idx = 75\n",
    "# plt.imshow(sample_patient['image'][:,:, slice_idx, modality], cmap='gray')\n",
    "# plt.imshow(sample_patient['mask'][:,:, slice_idx], alpha=0.4)\n",
    "# plt.show()\n",
    "\n",
    "modality = 0\n",
    "slice_idx = 90\n",
    "plt.imshow(sample_patient['image'][modality, slice_idx, :, :], cmap='gray')\n",
    "plt.imshow(sample_patient['mask'][0, slice_idx, :, :], alpha=0.4) # since channel dimension is also added on the mask volume\n",
    "plt.show()"
   ]
  },
  {
   "cell_type": "code",
   "execution_count": null,
   "metadata": {},
   "outputs": [],
   "source": []
  },
  {
   "cell_type": "code",
   "execution_count": 90,
   "metadata": {},
   "outputs": [],
   "source": [
    "# patient_num = random.randint(0, len(train_ds)-1) # random patient\n",
    "# slice_num = 75 # Extract 75th slice\n",
    "\n",
    "# sample_image = train_ds[patient_num]['image'] # (240, 240, 155, 4)\n",
    "# sample_mask = train_ds[patient_num]['mask'] # (240, 240, 155)\n",
    "\n",
    "# sample_image_slice = sample_image[:,:, slice_num, :] # (240, 240, 4)\n",
    "# sample_mask_slice = sample_mask[:,:, slice_num] # (240, 240)\n",
    "\n",
    "# fig, axes = plt.subplots(nrows=1, ncols=5, figsize=(15, 15))\n",
    "# labels = []\n",
    "\n",
    "# # Iterate through first 4 modalities and display them\n",
    "# for i, ax in enumerate(axes[:-1]):\n",
    "#     ax.set_xlabel(f\"\")\n",
    "#     ax.imshow(sample_image_slice[:,:,i], cmap='gray') # prints 4 modalities of image in 4 columns\n",
    "#     ax.set_xticks([])\n",
    "#     ax.set_yticks([])\n",
    "\n",
    "# # Display the mask in last column\n",
    "# axes[-1].imshow(sample_mask_slice)\n",
    "# axes[-1].set_xticks([])\n",
    "# axes[-1].set_yticks([])\n",
    "# plt.show()\n"
   ]
  },
  {
   "cell_type": "code",
   "execution_count": 91,
   "metadata": {},
   "outputs": [
    {
     "name": "stdout",
     "output_type": "stream",
     "text": [
      "sample_mask_slice torch.Size([240, 240])\n"
     ]
    },
    {
     "data": {
      "image/png": "[encoded data removed]",
      "text/plain": [
       "<Figure size 1500x1500 with 5 Axes>"
      ]
     },
     "metadata": {},
     "output_type": "display_data"
    }
   ],
   "source": [
    "patient_num = random.randint(0, len(train_ds)-1) # random patient\n",
    "slice_idx = 75 # Extract 75th slice\n",
    "\n",
    "sample_image = train_ds[patient_num]['image'] # (4, 128, 240, 240)\n",
    "sample_mask = train_ds[patient_num]['mask'] # (1, 128, 240, 240)\n",
    "sample_image_slice = sample_image[:, slice_idx, :, :] # (4, 240, 240)\n",
    "sample_mask_slice = sample_mask[0,slice_idx,:, :] # (240, 240)\n",
    "print('sample_mask_slice', sample_mask_slice.shape)\n",
    "fig, axes = plt.subplots(nrows=1, ncols=5, figsize=(15, 15))\n",
    "labels = []\n",
    "\n",
    "# Iterate through first 4 modalities and display them\n",
    "for i, ax in enumerate(axes[:-1]):\n",
    "    ax.set_xlabel(f\"\")\n",
    "    ax.imshow(sample_image_slice[i,:,:], cmap='gray') # prints 4 modalities of image in 4 columns\n",
    "    ax.set_xticks([])\n",
    "    ax.set_yticks([])\n",
    "\n",
    "# Display the mask in last column\n",
    "axes[-1].imshow(sample_mask_slice)\n",
    "axes[-1].set_xticks([])\n",
    "axes[-1].set_yticks([])\n",
    "plt.show()\n"
   ]
  },
  {
   "cell_type": "markdown",
   "metadata": {},
   "source": [
    "# DataLoader"
   ]
  },
  {
   "cell_type": "code",
   "execution_count": 92,
   "metadata": {},
   "outputs": [],
   "source": [
    "# Create dataloader\n",
    "train_loader = DataLoader(dataset=train_ds,\n",
    "                          batch_size=2,\n",
    "                          shuffle=True)\n",
    "val_loader = DataLoader(dataset=val_ds,\n",
    "                        batch_size=1,\n",
    "                        shuffle=False)"
   ]
  },
  {
   "cell_type": "markdown",
   "metadata": {},
   "source": [
    "Sanity Check: Iterate through dataloader and check the size"
   ]
  },
  {
   "cell_type": "code",
   "execution_count": 93,
   "metadata": {},
   "outputs": [
    {
     "name": "stdout",
     "output_type": "stream",
     "text": [
      "Batch images shape torch.Size([2, 4, 128, 240, 240])\n",
      "Batch masks shape torch.Size([2, 1, 128, 240, 240])\n",
      "--------------------\n"
     ]
    }
   ],
   "source": [
    "for batch in train_loader:\n",
    "    images = batch['image']\n",
    "    masks = batch['mask']\n",
    "    print(f'Batch images shape {images.shape}')\n",
    "    print(f'Batch masks shape {masks.shape}')\n",
    "    print('--------------------')\n",
    "    break"
   ]
  },
  {
   "cell_type": "code",
   "execution_count": 94,
   "metadata": {},
   "outputs": [
    {
     "data": {
      "text/plain": [
       "2"
      ]
     },
     "execution_count": 94,
     "metadata": {},
     "output_type": "execute_result"
    }
   ],
   "source": [
    "len(train_loader) # Get the total number of batches. Returned 5, which means 5 batch of data each with shape(batch_size=2, 4, 155, 240, 240)\n"
   ]
  },
  {
   "cell_type": "code",
   "execution_count": 95,
   "metadata": {},
   "outputs": [],
   "source": [
    "a_batch_image_mask = next(iter(train_loader))\n"
   ]
  },
  {
   "cell_type": "code",
   "execution_count": 96,
   "metadata": {},
   "outputs": [],
   "source": [
    "a_batch_mask = a_batch_image_mask['mask']"
   ]
  },
  {
   "cell_type": "code",
   "execution_count": 97,
   "metadata": {},
   "outputs": [
    {
     "data": {
      "text/plain": [
       "torch.Size([2, 1, 128, 240, 240])"
      ]
     },
     "execution_count": 97,
     "metadata": {},
     "output_type": "execute_result"
    }
   ],
   "source": [
    "a_batch_mask.shape"
   ]
  },
  {
   "cell_type": "code",
   "execution_count": 98,
   "metadata": {},
   "outputs": [
    {
     "data": {
      "text/plain": [
       "torch.Size([1, 128, 240, 240])"
      ]
     },
     "execution_count": 98,
     "metadata": {},
     "output_type": "execute_result"
    }
   ],
   "source": [
    "a_mask_volume = a_batch_mask[0, :, :, :] # select first sample from the batch\n",
    "a_mask_volume.shape"
   ]
  },
  {
   "cell_type": "code",
   "execution_count": 99,
   "metadata": {},
   "outputs": [
    {
     "data": {
      "text/plain": [
       "torch.Size([240, 240])"
      ]
     },
     "execution_count": 99,
     "metadata": {},
     "output_type": "execute_result"
    }
   ],
   "source": [
    "a_mask_slice = a_mask_volume[0, 75, :, :] # get 75th slice\n",
    "a_mask_slice.shape"
   ]
  },
  {
   "cell_type": "markdown",
   "metadata": {},
   "source": [
    "# Model"
   ]
  },
  {
   "cell_type": "code",
   "execution_count": 102,
   "metadata": {},
   "outputs": [
    {
     "name": "stderr",
     "output_type": "stream",
     "text": [
      "2024-05-20 19:30:47.489886: I tensorflow/core/util/port.cc:113] oneDNN custom operations are on. You may see slightly different numerical results due to floating-point round-off errors from different computation orders. To turn them off, set the environment variable `TF_ENABLE_ONEDNN_OPTS=0`.\n",
      "2024-05-20 19:30:47.520720: I external/local_tsl/tsl/cuda/cudart_stub.cc:31] Could not find cuda drivers on your machine, GPU will not be used.\n",
      "2024-05-20 19:30:47.665893: E external/local_xla/xla/stream_executor/cuda/cuda_dnn.cc:9261] Unable to register cuDNN factory: Attempting to register factory for plugin cuDNN when one has already been registered\n",
      "2024-05-20 19:30:47.665941: E external/local_xla/xla/stream_executor/cuda/cuda_fft.cc:607] Unable to register cuFFT factory: Attempting to register factory for plugin cuFFT when one has already been registered\n",
      "2024-05-20 19:30:47.692473: E external/local_xla/xla/stream_executor/cuda/cuda_blas.cc:1515] Unable to register cuBLAS factory: Attempting to register factory for plugin cuBLAS when one has already been registered\n",
      "2024-05-20 19:30:47.747459: I tensorflow/core/platform/cpu_feature_guard.cc:182] This TensorFlow binary is optimized to use available CPU instructions in performance-critical operations.\n",
      "To enable the following instructions: AVX2 AVX512F AVX512_VNNI FMA, in other operations, rebuild TensorFlow with the appropriate compiler flags.\n",
      "2024-05-20 19:30:48.578257: W tensorflow/compiler/tf2tensorrt/utils/py_utils.cc:38] TF-TRT Warning: Could not find TensorRT\n"
     ]
    }
   ],
   "source": [
    "import torch\n",
    "import monai"
   ]
  },
  {
   "cell_type": "code",
   "execution_count": 103,
   "metadata": {},
   "outputs": [],
   "source": [
    "from monai.networks.nets import UNet\n",
    "from monai.losses import DiceLoss"
   ]
  },
  {
   "cell_type": "code",
   "execution_count": 104,
   "metadata": {},
   "outputs": [
    {
     "name": "stdout",
     "output_type": "stream",
     "text": [
      "UNet(\n",
      "  (model): Sequential(\n",
      "    (0): Convolution(\n",
      "      (conv): Conv3d(4, 16, kernel_size=(3, 3, 3), stride=(2, 2, 2), padding=(1, 1, 1))\n",
      "      (adn): ADN(\n",
      "        (N): InstanceNorm3d(16, eps=1e-05, momentum=0.1, affine=False, track_running_stats=False)\n",
      "        (D): Dropout(p=0.0, inplace=False)\n",
      "        (A): PReLU(num_parameters=1)\n",
      "      )\n",
      "    )\n",
      "    (1): SkipConnection(\n",
      "      (submodule): Sequential(\n",
      "        (0): Convolution(\n",
      "          (conv): Conv3d(16, 32, kernel_size=(3, 3, 3), stride=(2, 2, 2), padding=(1, 1, 1))\n",
      "          (adn): ADN(\n",
      "            (N): InstanceNorm3d(32, eps=1e-05, momentum=0.1, affine=False, track_running_stats=False)\n",
      "            (D): Dropout(p=0.0, inplace=False)\n",
      "            (A): PReLU(num_parameters=1)\n",
      "          )\n",
      "        )\n",
      "        (1): SkipConnection(\n",
      "          (submodule): Sequential(\n",
      "            (0): Convolution(\n",
      "              (conv): Conv3d(32, 64, kernel_size=(3, 3, 3), stride=(2, 2, 2), padding=(1, 1, 1))\n",
      "              (adn): ADN(\n",
      "                (N): InstanceNorm3d(64, eps=1e-05, momentum=0.1, affine=False, track_running_stats=False)\n",
      "                (D): Dropout(p=0.0, inplace=False)\n",
      "                (A): PReLU(num_parameters=1)\n",
      "              )\n",
      "            )\n",
      "            (1): SkipConnection(\n",
      "              (submodule): Sequential(\n",
      "                (0): Convolution(\n",
      "                  (conv): Conv3d(64, 128, kernel_size=(3, 3, 3), stride=(2, 2, 2), padding=(1, 1, 1))\n",
      "                  (adn): ADN(\n",
      "                    (N): InstanceNorm3d(128, eps=1e-05, momentum=0.1, affine=False, track_running_stats=False)\n",
      "                    (D): Dropout(p=0.0, inplace=False)\n",
      "                    (A): PReLU(num_parameters=1)\n",
      "                  )\n",
      "                )\n",
      "                (1): SkipConnection(\n",
      "                  (submodule): Convolution(\n",
      "                    (conv): Conv3d(128, 256, kernel_size=(3, 3, 3), stride=(1, 1, 1), padding=(1, 1, 1))\n",
      "                    (adn): ADN(\n",
      "                      (N): InstanceNorm3d(256, eps=1e-05, momentum=0.1, affine=False, track_running_stats=False)\n",
      "                      (D): Dropout(p=0.0, inplace=False)\n",
      "                      (A): PReLU(num_parameters=1)\n",
      "                    )\n",
      "                  )\n",
      "                )\n",
      "                (2): Convolution(\n",
      "                  (conv): ConvTranspose3d(384, 64, kernel_size=(3, 3, 3), stride=(2, 2, 2), padding=(1, 1, 1), output_padding=(1, 1, 1))\n",
      "                  (adn): ADN(\n",
      "                    (N): InstanceNorm3d(64, eps=1e-05, momentum=0.1, affine=False, track_running_stats=False)\n",
      "                    (D): Dropout(p=0.0, inplace=False)\n",
      "                    (A): PReLU(num_parameters=1)\n",
      "                  )\n",
      "                )\n",
      "              )\n",
      "            )\n",
      "            (2): Convolution(\n",
      "              (conv): ConvTranspose3d(128, 32, kernel_size=(3, 3, 3), stride=(2, 2, 2), padding=(1, 1, 1), output_padding=(1, 1, 1))\n",
      "              (adn): ADN(\n",
      "                (N): InstanceNorm3d(32, eps=1e-05, momentum=0.1, affine=False, track_running_stats=False)\n",
      "                (D): Dropout(p=0.0, inplace=False)\n",
      "                (A): PReLU(num_parameters=1)\n",
      "              )\n",
      "            )\n",
      "          )\n",
      "        )\n",
      "        (2): Convolution(\n",
      "          (conv): ConvTranspose3d(64, 16, kernel_size=(3, 3, 3), stride=(2, 2, 2), padding=(1, 1, 1), output_padding=(1, 1, 1))\n",
      "          (adn): ADN(\n",
      "            (N): InstanceNorm3d(16, eps=1e-05, momentum=0.1, affine=False, track_running_stats=False)\n",
      "            (D): Dropout(p=0.0, inplace=False)\n",
      "            (A): PReLU(num_parameters=1)\n",
      "          )\n",
      "        )\n",
      "      )\n",
      "    )\n",
      "    (2): Convolution(\n",
      "      (conv): ConvTranspose3d(32, 4, kernel_size=(3, 3, 3), stride=(2, 2, 2), padding=(1, 1, 1), output_padding=(1, 1, 1))\n",
      "    )\n",
      "  )\n",
      ")\n"
     ]
    }
   ],
   "source": [
    "# Instantiate a U-Net model\n",
    "model = UNet(\n",
    "    spatial_dims=3,        # 3 for using 3D ConvNet and 3D Maxpooling\n",
    "    in_channels=4,         # since 4 modalities\n",
    "    out_channels=4,        # 4 sub-regions to segment\n",
    "    channels=(16, 32, 64, 128, 256),\n",
    "    strides=(2, 2, 2, 2),\n",
    ").to(my_device)\n",
    "print(model)"
   ]
  },
  {
   "cell_type": "code",
   "execution_count": 105,
   "metadata": {},
   "outputs": [
    {
     "name": "stdout",
     "output_type": "stream",
     "text": [
      "----------------------------------------------------------------\n",
      "        Layer (type)               Output Shape         Param #\n",
      "================================================================\n",
      "            Conv3d-1     [-1, 16, 64, 120, 120]           1,744\n",
      "    InstanceNorm3d-2     [-1, 16, 64, 120, 120]               0\n",
      "           Dropout-3     [-1, 16, 64, 120, 120]               0\n",
      "             PReLU-4     [-1, 16, 64, 120, 120]               1\n",
      "            Conv3d-5       [-1, 32, 32, 60, 60]          13,856\n",
      "    InstanceNorm3d-6       [-1, 32, 32, 60, 60]               0\n",
      "           Dropout-7       [-1, 32, 32, 60, 60]               0\n",
      "             PReLU-8       [-1, 32, 32, 60, 60]               1\n",
      "            Conv3d-9       [-1, 64, 16, 30, 30]          55,360\n",
      "   InstanceNorm3d-10       [-1, 64, 16, 30, 30]               0\n",
      "          Dropout-11       [-1, 64, 16, 30, 30]               0\n",
      "            PReLU-12       [-1, 64, 16, 30, 30]               1\n",
      "           Conv3d-13       [-1, 128, 8, 15, 15]         221,312\n",
      "   InstanceNorm3d-14       [-1, 128, 8, 15, 15]               0\n",
      "          Dropout-15       [-1, 128, 8, 15, 15]               0\n",
      "            PReLU-16       [-1, 128, 8, 15, 15]               1\n",
      "           Conv3d-17       [-1, 256, 8, 15, 15]         884,992\n",
      "   InstanceNorm3d-18       [-1, 256, 8, 15, 15]               0\n",
      "          Dropout-19       [-1, 256, 8, 15, 15]               0\n",
      "            PReLU-20       [-1, 256, 8, 15, 15]               1\n",
      "   SkipConnection-21       [-1, 384, 8, 15, 15]               0\n",
      "  ConvTranspose3d-22       [-1, 64, 16, 30, 30]         663,616\n",
      "   InstanceNorm3d-23       [-1, 64, 16, 30, 30]               0\n",
      "          Dropout-24       [-1, 64, 16, 30, 30]               0\n",
      "            PReLU-25       [-1, 64, 16, 30, 30]               1\n",
      "   SkipConnection-26      [-1, 128, 16, 30, 30]               0\n",
      "  ConvTranspose3d-27       [-1, 32, 32, 60, 60]         110,624\n",
      "   InstanceNorm3d-28       [-1, 32, 32, 60, 60]               0\n",
      "          Dropout-29       [-1, 32, 32, 60, 60]               0\n",
      "            PReLU-30       [-1, 32, 32, 60, 60]               1\n",
      "   SkipConnection-31       [-1, 64, 32, 60, 60]               0\n",
      "  ConvTranspose3d-32     [-1, 16, 64, 120, 120]          27,664\n",
      "   InstanceNorm3d-33     [-1, 16, 64, 120, 120]               0\n",
      "          Dropout-34     [-1, 16, 64, 120, 120]               0\n",
      "            PReLU-35     [-1, 16, 64, 120, 120]               1\n",
      "   SkipConnection-36     [-1, 32, 64, 120, 120]               0\n",
      "  ConvTranspose3d-37     [-1, 4, 128, 240, 240]           3,460\n",
      "================================================================\n",
      "Total params: 1,982,636\n",
      "Trainable params: 1,982,636\n",
      "Non-trainable params: 0\n",
      "----------------------------------------------------------------\n",
      "Input size (MB): 112.50\n",
      "Forward/backward pass size (MB): 1727.93\n",
      "Params size (MB): 7.56\n",
      "Estimated Total Size (MB): 1847.99\n",
      "----------------------------------------------------------------\n"
     ]
    }
   ],
   "source": [
    "summary(model, input_size=(4, 128, 240, 240))  # channels, depth, height, width\n"
   ]
  },
  {
   "cell_type": "markdown",
   "metadata": {},
   "source": [
    "# Training"
   ]
  },
  {
   "cell_type": "code",
   "execution_count": 106,
   "metadata": {},
   "outputs": [],
   "source": [
    "def train_step(model,\n",
    "               dataloader,\n",
    "               loss_fn,\n",
    "               optimizer):\n",
    "    # Putting the model in train mode\n",
    "    model.train()\n",
    "\n",
    "    # Initialize train loss\n",
    "    train_loss = 0\n",
    "\n",
    "    # Loop through batches of data\n",
    "    for batch_num, batch_data in enumerate(dataloader):\n",
    "        X = batch_data['image']\n",
    "        Y = batch_data['mask'] # torch.Size([1, 1, 128, 240, 240]) (batch, channel=1, 128, 240, 240)\n",
    "\n",
    "        # Send data to target device\n",
    "        X, Y = X.to(my_device), Y.to(my_device)\n",
    "\n",
    "        # Forward pass\n",
    "        y_pred = model(X) # y_pred shape torch.Size([batch, 4, 128, 240, 240])\n",
    "        \n",
    "        # Compute and accumulate loss\n",
    "        loss = loss_fn(y_pred, Y) # loss one-hot encode the y so y will be [batch, 4, 128, 240, 240] and y_pred is [batch, 4, 128, 240, 240], thus loss is scalar(loss across batch)\n",
    "        train_loss += loss.item()\n",
    "\n",
    "        # Backpropagation and Optimization\n",
    "        optimizer.zero_grad()\n",
    "        loss.backward()\n",
    "        optimizer.step()\n",
    "\n",
    "        # Calculate and accumulate metric across the batch\n",
    "        # y_pred_class = torch.argmax(y_pred, dim=1) # y_pred_class shape [batch, 1, 128, 240, 240] since it takes argmax the channels\n",
    "\n",
    "    # Average loss and accuracy of all batches (average of all batches = 1 epoch)\n",
    "    train_loss = train_loss / len(dataloader)\n",
    "\n",
    "    return train_loss"
   ]
  },
  {
   "cell_type": "code",
   "execution_count": 107,
   "metadata": {},
   "outputs": [],
   "source": [
    "def val_step(model,\n",
    "              dataloader,\n",
    "              loss_fn):\n",
    "    # Putting model in eval mode\n",
    "    model.eval()\n",
    "\n",
    "    # Initialize test loss\n",
    "    val_loss = 0\n",
    "\n",
    "    # Turn on inference context manager\n",
    "    with torch.inference_mode():\n",
    "        # Loop through batches of data in dataloader\n",
    "        for batch_num, batch_data in enumerate(dataloader):\n",
    "            X = batch_data['image']\n",
    "            Y = batch_data['mask']\n",
    "\n",
    "            # Send data to target device\n",
    "            X, Y = X.to(my_device), Y.to(my_device)\n",
    "\n",
    "            # Forward pass\n",
    "            test_pred_logits = model(X)\n",
    "\n",
    "            # Calculate and accumulate loss\n",
    "            loss = loss_fn(test_pred_logits, Y)\n",
    "            val_loss += loss.item()\n",
    "\n",
    "    return val_loss"
   ]
  },
  {
   "cell_type": "code",
   "execution_count": 108,
   "metadata": {},
   "outputs": [],
   "source": [
    "from tqdm.auto import tqdm\n",
    "\n",
    "# Various parameters required for training and test step\n",
    "def train(model,\n",
    "          train_loader,\n",
    "          val_loader,\n",
    "          optimizer,\n",
    "          loss_fn,\n",
    "          epochs):\n",
    "    \n",
    "    # Creating empty list to hold loss and accuracy\n",
    "    results = {\n",
    "        'train_loss':[],\n",
    "        'val_loss':[],\n",
    "    }\n",
    "\n",
    "    # Looping through traininig and testing steps for a number of epochs\n",
    "    for epoch in tqdm(range(epochs)):\n",
    "        train_loss= train_step(model=model,\n",
    "                                dataloader=train_loader,\n",
    "                                loss_fn=loss_fn,\n",
    "                                optimizer=optimizer)\n",
    "        \n",
    "        val_loss = val_step(model=model,\n",
    "                              dataloader=val_loader,\n",
    "                              loss_fn=loss_fn)\n",
    "        \n",
    "        # Print and append the loss current epoch\n",
    "        print(\n",
    "            f'Epoch: {epoch+1} |'\n",
    "            f'train_loss: {train_loss:.4f} |'\n",
    "            f'val_loss: {val_loss:.4f} |'\n",
    "\n",
    "        )\n",
    "\n",
    "        # Append to the list\n",
    "        results['train_loss'].append(train_loss)\n",
    "        results['val_loss'].append(val_loss)\n",
    "\n",
    "    return results"
   ]
  },
  {
   "cell_type": "code",
   "execution_count": null,
   "metadata": {},
   "outputs": [
    {
     "data": {
      "application/vnd.jupyter.widget-view+json": {
       "model_id": "6e2a1236faea44c0854263b3417cd740",
       "version_major": 2,
       "version_minor": 0
      },
      "text/plain": [
       "  0%|          | 0/5 [00:00<?, ?it/s]"
      ]
     },
     "metadata": {},
     "output_type": "display_data"
    },
    {
     "name": "stdout",
     "output_type": "stream",
     "text": [
      "Epoch: 1 |train_loss: 0.9017 |val_loss: 0.8874 |\n"
     ]
    }
   ],
   "source": [
    "# Set random seeds\n",
    "random_seed = 42\n",
    "torch.manual_seed(random_seed)\n",
    "torch.cuda.manual_seed(random_seed)\n",
    "monai.utils.set_determinism(seed=random_seed)\n",
    "\n",
    "# Set the number of epochs, loss function and optimizer\n",
    "num_epochs = 5\n",
    "loss_fn = DiceLoss(to_onehot_y=True, softmax=True)\n",
    "optimizer = torch.optim.Adam(params=model.parameters(), lr=0.001)\n",
    "\n",
    "# Start the timer\n",
    "from timeit import default_timer as timer\n",
    "start_time = timer()\n",
    "\n",
    "# Train model\n",
    "model_results = train(model,\n",
    "                      train_loader=train_loader,\n",
    "                      val_loader=val_loader,\n",
    "                      optimizer=optimizer,\n",
    "                      loss_fn=loss_fn,\n",
    "                      epochs=num_epochs)\n",
    "\n",
    "# End the timer and print out how long it took\n",
    "end_time = timer()\n",
    "print(f\"Total training time: {end_time-start_time:.3f} seconds\")"
   ]
  },
  {
   "cell_type": "code",
   "execution_count": null,
   "metadata": {},
   "outputs": [],
   "source": []
  },
  {
   "cell_type": "code",
   "execution_count": null,
   "metadata": {},
   "outputs": [],
   "source": []
  },
  {
   "cell_type": "code",
   "execution_count": null,
   "metadata": {},
   "outputs": [],
   "source": []
  },
  {
   "cell_type": "code",
   "execution_count": null,
   "metadata": {},
   "outputs": [],
   "source": []
  }
 ],
 "metadata": {
  "kernelspec": {
   "display_name": "Python 3 (ipykernel)",
   "language": "python",
   "name": "python3"
  },
  "language_info": {
   "codemirror_mode": {
    "name": "ipython",
    "version": 3
   },
   "file_extension": ".py",
   "mimetype": "text/x-python",
   "name": "python",
   "nbconvert_exporter": "python",
   "pygments_lexer": "ipython3",
   "version": "3.11.5"
  }
 },
 "nbformat": 4,
 "nbformat_minor": 4
}
